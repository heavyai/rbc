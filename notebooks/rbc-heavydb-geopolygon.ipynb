{
 "cells": [
  {
   "attachments": {},
   "cell_type": "markdown",
   "metadata": {},
   "source": [
    "This notebook covers the basic of creating UDTFs for manipulating a `GeoPolygon`: A set of one or more rings (closed line strings), with the first representing the shape (external ring) and the rest representing holes in that shape (internal rings)\n",
    "\n",
    "For example: `POLYGON((0 0,4 0,4 4,0 4,0 0),(1 1, 2 1, 2 2, 1 2,1 1))`"
   ]
  },
  {
   "attachments": {},
   "cell_type": "markdown",
   "metadata": {},
   "source": [
    "For the API, check the RBC ReadTheDocs page:\n",
    "* [`Column<GeoPolygon>`](https://rbc.readthedocs.io/en/latest/generated/rbc.heavydb.ColumnGeoPolygon.html#rbc.heavydb.ColumnGeoPolygon)\n",
    "* [`GeoPolygon`](https://rbc.readthedocs.io/en/latest/generated/rbc.heavydb.GeoPolygon.html#rbc.heavydb.GeoPolygon)"
   ]
  },
  {
   "cell_type": "code",
   "execution_count": 359,
   "metadata": {},
   "outputs": [],
   "source": [
    "import warnings; warnings.filterwarnings('ignore')"
   ]
  },
  {
   "attachments": {},
   "cell_type": "markdown",
   "metadata": {},
   "source": [
    "### Connect to the HeavyDB server"
   ]
  },
  {
   "cell_type": "code",
   "execution_count": 360,
   "metadata": {},
   "outputs": [],
   "source": [
    "# NBVAL_IGNORE_OUTPUT\n",
    "from rbc.heavydb import RemoteHeavyDB\n",
    "heavydb = RemoteHeavyDB(user='admin', password='HyperInteractive',\n",
    "                        host='127.0.0.1', port=6274)"
   ]
  },
  {
   "attachments": {},
   "cell_type": "markdown",
   "metadata": {},
   "source": [
    "GeoPolygon requires HeavyDB 7.0 or newer"
   ]
  },
  {
   "cell_type": "code",
   "execution_count": 361,
   "metadata": {},
   "outputs": [
    {
     "data": {
      "text/plain": [
       "(7, 0, 0)"
      ]
     },
     "execution_count": 361,
     "metadata": {},
     "output_type": "execute_result"
    }
   ],
   "source": [
    "heavydb.version[:3]"
   ]
  },
  {
   "attachments": {},
   "cell_type": "markdown",
   "metadata": {},
   "source": [
    "### Load test data"
   ]
  },
  {
   "cell_type": "code",
   "execution_count": 362,
   "metadata": {},
   "outputs": [],
   "source": [
    "from util import load_test_data\n",
    "from rbc.tests import _PolygonTestTable\n",
    "table_name = 'polygon_table'\n",
    "load_test_data(heavydb, _PolygonTestTable, table_name)"
   ]
  },
  {
   "attachments": {},
   "cell_type": "markdown",
   "metadata": {},
   "source": [
    "List of polygons in `polygon_table`"
   ]
  },
  {
   "cell_type": "code",
   "execution_count": 363,
   "metadata": {},
   "outputs": [
    {
     "data": {
      "text/html": [
       "<div>\n",
       "<style scoped>\n",
       "    .dataframe tbody tr th:only-of-type {\n",
       "        vertical-align: middle;\n",
       "    }\n",
       "\n",
       "    .dataframe tbody tr th {\n",
       "        vertical-align: top;\n",
       "    }\n",
       "\n",
       "    .dataframe thead th {\n",
       "        text-align: right;\n",
       "    }\n",
       "</style>\n",
       "<table border=\"1\" class=\"dataframe\">\n",
       "  <thead>\n",
       "    <tr style=\"text-align: right;\">\n",
       "      <th></th>\n",
       "      <th>p1</th>\n",
       "      <th>p2</th>\n",
       "      <th>p3</th>\n",
       "      <th>p4</th>\n",
       "    </tr>\n",
       "  </thead>\n",
       "  <tbody>\n",
       "    <tr>\n",
       "      <th>0</th>\n",
       "      <td>POLYGON ((1 2,3 4,5 6,7 8,9 10,1 2),(1 2,3 4,2...</td>\n",
       "      <td>POLYGON ((0 0,4.99999995576218 0.0,4.999999955...</td>\n",
       "      <td>POLYGON ((0 0,7 0,7 7,0 7,0 0),(4 4,4 2,2 3,2 ...</td>\n",
       "      <td>POLYGON ((0 0,6 0,6 6,0 6,0 0),(3 3,3 2,2 2,2 ...</td>\n",
       "    </tr>\n",
       "    <tr>\n",
       "      <th>1</th>\n",
       "      <td>POLYGON ((0 0,5 0,5 5,0 5,0 0))</td>\n",
       "      <td>POLYGON ((0 0,5.99999998044223 0.0,5.999999980...</td>\n",
       "      <td>POLYGON ((0 0,7 0,7 7,0 7,0 0))</td>\n",
       "      <td>POLYGON ((0 0,4 0,4 4,0 4,0 0))</td>\n",
       "    </tr>\n",
       "    <tr>\n",
       "      <th>2</th>\n",
       "      <td>POLYGON ((1 2,3 4,5 6,7 8,9 10,1 2),(2 3,1 2,3...</td>\n",
       "      <td>POLYGON ((0 0,4.99999995576218 0.0,4.999999955...</td>\n",
       "      <td>POLYGON ((0 0,6 0,6 6,0 6,0 0),(3 3,3 2,2 2,2 ...</td>\n",
       "      <td>POLYGON ((0 0,7 0,7 7,0 7,0 0),(4 4,4 2,2 3,2 ...</td>\n",
       "    </tr>\n",
       "    <tr>\n",
       "      <th>3</th>\n",
       "      <td>None</td>\n",
       "      <td>None</td>\n",
       "      <td>None</td>\n",
       "      <td>None</td>\n",
       "    </tr>\n",
       "  </tbody>\n",
       "</table>\n",
       "</div>"
      ],
      "text/plain": [
       "                                                  p1  \\\n",
       "0  POLYGON ((1 2,3 4,5 6,7 8,9 10,1 2),(1 2,3 4,2...   \n",
       "1                    POLYGON ((0 0,5 0,5 5,0 5,0 0))   \n",
       "2  POLYGON ((1 2,3 4,5 6,7 8,9 10,1 2),(2 3,1 2,3...   \n",
       "3                                               None   \n",
       "\n",
       "                                                  p2  \\\n",
       "0  POLYGON ((0 0,4.99999995576218 0.0,4.999999955...   \n",
       "1  POLYGON ((0 0,5.99999998044223 0.0,5.999999980...   \n",
       "2  POLYGON ((0 0,4.99999995576218 0.0,4.999999955...   \n",
       "3                                               None   \n",
       "\n",
       "                                                  p3  \\\n",
       "0  POLYGON ((0 0,7 0,7 7,0 7,0 0),(4 4,4 2,2 3,2 ...   \n",
       "1                    POLYGON ((0 0,7 0,7 7,0 7,0 0))   \n",
       "2  POLYGON ((0 0,6 0,6 6,0 6,0 0),(3 3,3 2,2 2,2 ...   \n",
       "3                                               None   \n",
       "\n",
       "                                                  p4  \n",
       "0  POLYGON ((0 0,6 0,6 6,0 6,0 0),(3 3,3 2,2 2,2 ...  \n",
       "1                    POLYGON ((0 0,4 0,4 4,0 4,0 0))  \n",
       "2  POLYGON ((0 0,7 0,7 7,0 7,0 0),(4 4,4 2,2 3,2 ...  \n",
       "3                                               None  "
      ]
     },
     "execution_count": 363,
     "metadata": {},
     "output_type": "execute_result"
    }
   ],
   "source": [
    "import pandas as pd\n",
    "descr, result = heavydb.sql_execute(f'select * from {table_name}')\n",
    "pd.DataFrame(list(result), columns=map(lambda x: x.name, descr))"
   ]
  },
  {
   "attachments": {},
   "cell_type": "markdown",
   "metadata": {},
   "source": [
    "### Define a function that operate on GeoPolygon"
   ]
  },
  {
   "attachments": {},
   "cell_type": "markdown",
   "metadata": {},
   "source": [
    "Function `get_linestring` takes a `Column<GeoPolygon>` as input. It extracts the first `GeoLineString` of each polygon in the column when not null."
   ]
  },
  {
   "cell_type": "code",
   "execution_count": 364,
   "metadata": {},
   "outputs": [],
   "source": [
    "@heavydb(\"int32(TableFunctionManager, Column<Z>, OutputColumn<K>)\",\n",
    "            Z=['GeoPolygon'], K=['GeoLineString'], devices=['cpu'])\n",
    "def get_linestring(mgr, polygons, linestrings):\n",
    "    size = len(polygons)\n",
    "    mgr.set_output_item_values_total_number(0, polygons.get_n_of_values())\n",
    "    mgr.set_output_row_size(size)\n",
    "    for i in range(size):\n",
    "        if polygons.is_null(i):\n",
    "            linestrings.set_null(i)\n",
    "        else:\n",
    "            poly = polygons[i]\n",
    "            ring = poly[0]\n",
    "            linestrings[i] = ring\n",
    "    return size"
   ]
  },
  {
   "cell_type": "code",
   "execution_count": 365,
   "metadata": {},
   "outputs": [],
   "source": [
    "from pprint import pprint"
   ]
  },
  {
   "cell_type": "code",
   "execution_count": 366,
   "metadata": {},
   "outputs": [
    {
     "name": "stdout",
     "output_type": "stream",
     "text": [
      "[('POLYGON ((1 2,3 4,5 6,7 8,9 10,1 2),(1 2,3 4,2 3,1 2))',),\n",
      " ('POLYGON ((0 0,5 0,5 5,0 5,0 0))',),\n",
      " ('POLYGON ((1 2,3 4,5 6,7 8,9 10,1 2),(2 3,1 2,3 4,2 3),(9 10,7 8,5 6,9 '\n",
      "  '10))',),\n",
      " (None,)]\n"
     ]
    }
   ],
   "source": [
    "descr, result = heavydb.sql_execute(f'select p1 from {table_name}')\n",
    "pprint(list(result))"
   ]
  },
  {
   "cell_type": "code",
   "execution_count": 368,
   "metadata": {},
   "outputs": [
    {
     "name": "stdout",
     "output_type": "stream",
     "text": [
      "[('LINESTRING (1 2,3 4,5 6,7 8,9 10)',),\n",
      " ('LINESTRING (0 0,5 0,5 5,0 5)',),\n",
      " ('LINESTRING (1 2,3 4,5 6,7 8,9 10)',),\n",
      " (None,)]\n"
     ]
    }
   ],
   "source": [
    "query = (f'''\n",
    "    SELECT * FROM\n",
    "     TABLE(get_linestring(\n",
    "        cursor(SELECT p1 from {table_name})\n",
    "    ))\n",
    "''')\n",
    "\n",
    "descr, result = heavydb.sql_execute(query)\n",
    "pprint(list(result))"
   ]
  }
 ],
 "metadata": {
  "kernelspec": {
   "display_name": "Python 3",
   "language": "python",
   "name": "python3"
  },
  "language_info": {
   "codemirror_mode": {
    "name": "ipython",
    "version": 3
   },
   "file_extension": ".py",
   "mimetype": "text/x-python",
   "name": "python",
   "nbconvert_exporter": "python",
   "pygments_lexer": "ipython3",
   "version": "3.10.11"
  },
  "orig_nbformat": 4
 },
 "nbformat": 4,
 "nbformat_minor": 2
}
