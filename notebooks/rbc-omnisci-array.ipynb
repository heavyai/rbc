{
 "cells": [
  {
   "cell_type": "code",
   "execution_count": 10,
   "metadata": {},
   "outputs": [],
   "source": [
    "import warnings; warnings.filterwarnings('ignore')"
   ]
  },
  {
   "cell_type": "code",
   "execution_count": 1,
   "metadata": {},
   "outputs": [],
   "source": [
    "import numpy as np"
   ]
  },
  {
   "cell_type": "code",
   "execution_count": 2,
   "metadata": {},
   "outputs": [],
   "source": [
    "from rbc.omniscidb import RemoteOmnisci"
   ]
  },
  {
   "cell_type": "code",
   "execution_count": 3,
   "metadata": {},
   "outputs": [],
   "source": [
    "# NBVAL_IGNORE_OUTPUT\n",
    "omnisci = RemoteOmnisci(user='admin', password='HyperInteractive',\n",
    "                     host='127.0.0.1', port=6274, dbname='omnisci')"
   ]
  },
  {
   "cell_type": "code",
   "execution_count": 4,
   "metadata": {},
   "outputs": [],
   "source": [
    "SQL=lambda query: np.array(list(omnisci.sql_execute(query)[1]), dtype=object)"
   ]
  },
  {
   "cell_type": "code",
   "execution_count": 6,
   "metadata": {},
   "outputs": [
    {
     "data": {
      "text/plain": [
       "[array([1, 2, 3, 1], dtype=object)]"
      ]
     },
     "execution_count": 6,
     "metadata": {},
     "output_type": "execute_result"
    }
   ],
   "source": [
    "SQL('DROP TABLE IF EXISTS mytable')\n",
    "SQL('CREATE TABLE IF NOT EXISTS mytable (i INT[]);');\n",
    "for i in range(5):\n",
    "    SQL('INSERT INTO mytable VALUES (ARRAY[1,2,3,'+str(i)+'])');\n",
    "list(SQL('SELECT * FROM mytable')[1])"
   ]
  },
  {
   "cell_type": "code",
   "execution_count": 7,
   "metadata": {},
   "outputs": [],
   "source": [
    "@omnisci('i32(i32[])')\n",
    "def sum_i32(x):\n",
    "    s = 0\n",
    "    for i in range(len(x)):\n",
    "        s += x[i]\n",
    "    return s"
   ]
  },
  {
   "cell_type": "code",
   "execution_count": 8,
   "metadata": {},
   "outputs": [
    {
     "data": {
      "text/plain": [
       "array([[list([1, 2, 3, 0]), 6],\n",
       "       [list([1, 2, 3, 1]), 7],\n",
       "       [list([1, 2, 3, 2]), 8],\n",
       "       [list([1, 2, 3, 3]), 9],\n",
       "       [list([1, 2, 3, 4]), 10]], dtype=object)"
      ]
     },
     "execution_count": 8,
     "metadata": {},
     "output_type": "execute_result"
    }
   ],
   "source": [
    "SQL('SELECT i, sum_i32(i) FROM mytable')"
   ]
  },
  {
   "cell_type": "code",
   "execution_count": 9,
   "metadata": {},
   "outputs": [
    {
     "name": "stdout",
     "output_type": "stream",
     "text": [
      "\n",
      "--------------------------------------cpu---------------------------------------\n",
      "; ModuleID = 'rbc.irtools.compile_to_IR'\n",
      "source_filename = \"<string>\"\n",
      "target triple = \"x86_64-unknown-linux-gnu\"\n",
      "\n",
      "@\"_ZN08NumbaEnv8__main__11sum_i32$244E22$28STRUCT__iPLbK$29$2a\" = common local_unnamed_addr global i8* null\n",
      "@\"_ZN08NumbaEnv3rbc15omnisci_backend14omnisci_buffer18omnisci_buffer_len12$3clocals$3e16$3clambda$3e$245E22$28STRUCT__iPLbK$29$2a\" = common local_unnamed_addr global i8* null\n",
      "@\"_ZN08NumbaEnv3rbc15omnisci_backend14omnisci_buffer22omnisci_buffer_getitem12$3clocals$3e16$3clambda$3e$246E22$28STRUCT__iPLbK$29$2ax\" = common local_unnamed_addr global i8* null\n",
      "\n",
      "; Function Attrs: norecurse nounwind readonly\n",
      "define i32 @sum_i32_ia_V16VOmnisciArrayTyperiRA({ i32*, i64, i8 }* nocapture readonly %.1) local_unnamed_addr #0 {\n",
      "entry:\n",
      "  %.17.i.i = getelementptr { i32*, i64, i8 }, { i32*, i64, i8 }* %.1, i64 0, i32 1\n",
      "  %.18.i.i = load i64, i64* %.17.i.i, align 8, !noalias !0\n",
      "  %.107.i.inv = icmp sgt i64 %.18.i.i, 0\n",
      "  br i1 %.107.i.inv, label %B20.i.lr.ph, label %\"_ZN8__main__11sum_i32$244E22$28STRUCT__iPLbK$29$2a.exit\"\n",
      "\n",
      "B20.i.lr.ph:                                      ; preds = %entry\n",
      "  %.221.i.i = getelementptr { i32*, i64, i8 }, { i32*, i64, i8 }* %.1, i64 0, i32 0\n",
      "  %.23.i.i = load i32*, i32** %.221.i.i, align 8, !noalias !5\n",
      "  %min.iters.check = icmp ult i64 %.18.i.i, 16\n",
      "  br i1 %min.iters.check, label %B20.i.preheader, label %vector.ph\n",
      "\n",
      "vector.ph:                                        ; preds = %B20.i.lr.ph\n",
      "  %n.vec = and i64 %.18.i.i, -16\n",
      "  br label %vector.body\n",
      "\n",
      "vector.body:                                      ; preds = %vector.body, %vector.ph\n",
      "  %index = phi i64 [ 0, %vector.ph ], [ %index.next, %vector.body ]\n",
      "  %vec.phi = phi <4 x i64> [ zeroinitializer, %vector.ph ], [ %12, %vector.body ]\n",
      "  %vec.phi5 = phi <4 x i64> [ zeroinitializer, %vector.ph ], [ %13, %vector.body ]\n",
      "  %vec.phi6 = phi <4 x i64> [ zeroinitializer, %vector.ph ], [ %14, %vector.body ]\n",
      "  %vec.phi7 = phi <4 x i64> [ zeroinitializer, %vector.ph ], [ %15, %vector.body ]\n",
      "  %0 = getelementptr i32, i32* %.23.i.i, i64 %index\n",
      "  %1 = bitcast i32* %0 to <4 x i32>*\n",
      "  %wide.load = load <4 x i32>, <4 x i32>* %1, align 4, !noalias !5\n",
      "  %2 = getelementptr i32, i32* %0, i64 4\n",
      "  %3 = bitcast i32* %2 to <4 x i32>*\n",
      "  %wide.load17 = load <4 x i32>, <4 x i32>* %3, align 4, !noalias !5\n",
      "  %4 = getelementptr i32, i32* %0, i64 8\n",
      "  %5 = bitcast i32* %4 to <4 x i32>*\n",
      "  %wide.load18 = load <4 x i32>, <4 x i32>* %5, align 4, !noalias !5\n",
      "  %6 = getelementptr i32, i32* %0, i64 12\n",
      "  %7 = bitcast i32* %6 to <4 x i32>*\n",
      "  %wide.load19 = load <4 x i32>, <4 x i32>* %7, align 4, !noalias !5\n",
      "  %8 = sext <4 x i32> %wide.load to <4 x i64>\n",
      "  %9 = sext <4 x i32> %wide.load17 to <4 x i64>\n",
      "  %10 = sext <4 x i32> %wide.load18 to <4 x i64>\n",
      "  %11 = sext <4 x i32> %wide.load19 to <4 x i64>\n",
      "  %12 = add <4 x i64> %vec.phi, %8\n",
      "  %13 = add <4 x i64> %vec.phi5, %9\n",
      "  %14 = add <4 x i64> %vec.phi6, %10\n",
      "  %15 = add <4 x i64> %vec.phi7, %11\n",
      "  %index.next = add i64 %index, 16\n",
      "  %16 = icmp eq i64 %index.next, %n.vec\n",
      "  br i1 %16, label %middle.block, label %vector.body, !llvm.loop !8\n",
      "\n",
      "middle.block:                                     ; preds = %vector.body\n",
      "  %ind.end = sub nsw i64 %.18.i.i, %n.vec\n",
      "  %bin.rdx = add <4 x i64> %13, %12\n",
      "  %bin.rdx20 = add <4 x i64> %bin.rdx, %14\n",
      "  %bin.rdx21 = add <4 x i64> %bin.rdx20, %15\n",
      "  %rdx.shuf = shufflevector <4 x i64> %bin.rdx21, <4 x i64> undef, <4 x i32> <i32 2, i32 3, i32 undef, i32 undef>\n",
      "  %bin.rdx22 = add <4 x i64> %rdx.shuf, %bin.rdx21\n",
      "  %rdx.shuf23 = shufflevector <4 x i64> %bin.rdx22, <4 x i64> undef, <4 x i32> <i32 1, i32 undef, i32 undef, i32 undef>\n",
      "  %bin.rdx24 = add <4 x i64> %rdx.shuf23, %bin.rdx22\n",
      "  %17 = extractelement <4 x i64> %bin.rdx24, i32 0\n",
      "  %cmp.n = icmp eq i64 %.18.i.i, %n.vec\n",
      "  br i1 %cmp.n, label %\"_ZN8__main__11sum_i32$244E22$28STRUCT__iPLbK$29$2a.exit.loopexit\", label %B20.i.preheader\n",
      "\n",
      "B20.i.preheader:                                  ; preds = %middle.block, %B20.i.lr.ph\n",
      "  %s.2.0.i3.ph = phi i64 [ %17, %middle.block ], [ 0, %B20.i.lr.ph ]\n",
      "  %.93.i.02.ph = phi i64 [ %n.vec, %middle.block ], [ 0, %B20.i.lr.ph ]\n",
      "  %.96.i.01.ph = phi i64 [ %ind.end, %middle.block ], [ %.18.i.i, %B20.i.lr.ph ]\n",
      "  br label %B20.i\n",
      "\n",
      "B20.i:                                            ; preds = %B20.i.preheader, %B20.i\n",
      "  %s.2.0.i3 = phi i64 [ %.251.i, %B20.i ], [ %s.2.0.i3.ph, %B20.i.preheader ]\n",
      "  %.93.i.02 = phi i64 [ %.170.i, %B20.i ], [ %.93.i.02.ph, %B20.i.preheader ]\n",
      "  %.96.i.01 = phi i64 [ %.166.i, %B20.i ], [ %.96.i.01.ph, %B20.i.preheader ]\n",
      "  %.170.i = add nuw nsw i64 %.93.i.02, 1\n",
      "  %.166.i = add nsw i64 %.96.i.01, -1\n",
      "  %.24.i.i = getelementptr i32, i32* %.23.i.i, i64 %.93.i.02\n",
      "  %.25.i.i = load i32, i32* %.24.i.i, align 4, !noalias !5\n",
      "  %.250.i = sext i32 %.25.i.i to i64\n",
      "  %.251.i = add nsw i64 %s.2.0.i3, %.250.i\n",
      "  %.157.i = icmp sgt i64 %.96.i.01, 1\n",
      "  br i1 %.157.i, label %B20.i, label %\"_ZN8__main__11sum_i32$244E22$28STRUCT__iPLbK$29$2a.exit.loopexit\", !llvm.loop !10\n",
      "\n",
      "\"_ZN8__main__11sum_i32$244E22$28STRUCT__iPLbK$29$2a.exit.loopexit\": ; preds = %B20.i, %middle.block\n",
      "  %.251.i.lcssa = phi i64 [ %17, %middle.block ], [ %.251.i, %B20.i ]\n",
      "  %phitmp = trunc i64 %.251.i.lcssa to i32\n",
      "  br label %\"_ZN8__main__11sum_i32$244E22$28STRUCT__iPLbK$29$2a.exit\"\n",
      "\n",
      "\"_ZN8__main__11sum_i32$244E22$28STRUCT__iPLbK$29$2a.exit\": ; preds = %\"_ZN8__main__11sum_i32$244E22$28STRUCT__iPLbK$29$2a.exit.loopexit\", %entry\n",
      "  %s.2.0.i.lcssa = phi i32 [ 0, %entry ], [ %phitmp, %\"_ZN8__main__11sum_i32$244E22$28STRUCT__iPLbK$29$2a.exit.loopexit\" ]\n",
      "  ret i32 %s.2.0.i.lcssa\n",
      "}\n",
      "\n",
      "attributes #0 = { norecurse nounwind readonly }\n",
      "\n",
      "!0 = !{!1, !3}\n",
      "!1 = distinct !{!1, !2, !\"_ZN3rbc15omnisci_backend14omnisci_buffer18omnisci_buffer_len12$3clocals$3e16$3clambda$3e$245E22$28STRUCT__iPLbK$29$2a: %retptr\"}\n",
      "!2 = distinct !{!2, !\"_ZN3rbc15omnisci_backend14omnisci_buffer18omnisci_buffer_len12$3clocals$3e16$3clambda$3e$245E22$28STRUCT__iPLbK$29$2a\"}\n",
      "!3 = distinct !{!3, !4, !\"_ZN8__main__11sum_i32$244E22$28STRUCT__iPLbK$29$2a: %retptr\"}\n",
      "!4 = distinct !{!4, !\"_ZN8__main__11sum_i32$244E22$28STRUCT__iPLbK$29$2a\"}\n",
      "!5 = !{!6, !3}\n",
      "!6 = distinct !{!6, !7, !\"_ZN3rbc15omnisci_backend14omnisci_buffer22omnisci_buffer_getitem12$3clocals$3e16$3clambda$3e$246E22$28STRUCT__iPLbK$29$2ax: %retptr\"}\n",
      "!7 = distinct !{!7, !\"_ZN3rbc15omnisci_backend14omnisci_buffer22omnisci_buffer_getitem12$3clocals$3e16$3clambda$3e$246E22$28STRUCT__iPLbK$29$2ax\"}\n",
      "!8 = distinct !{!8, !9}\n",
      "!9 = !{!\"llvm.loop.isvectorized\", i32 1}\n",
      "!10 = distinct !{!10, !11, !9}\n",
      "!11 = !{!\"llvm.loop.unroll.runtime.disable\"}\n",
      "\n",
      "--------------------------------------------------------------------------------\n"
     ]
    }
   ],
   "source": [
    "# NBVAL_IGNORE_OUTPUT\n",
    "print(sum_i32)"
   ]
  }
 ],
 "metadata": {
  "kernelspec": {
   "display_name": "Python 3",
   "language": "python",
   "name": "python3"
  },
  "language_info": {
   "codemirror_mode": {
    "name": "ipython",
    "version": 3
   },
   "file_extension": ".py",
   "mimetype": "text/x-python",
   "name": "python",
   "nbconvert_exporter": "python",
   "pygments_lexer": "ipython3",
   "version": "3.8.6"
  }
 },
 "nbformat": 4,
 "nbformat_minor": 4
}
