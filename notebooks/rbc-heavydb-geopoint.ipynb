{
 "cells": [
  {
   "attachments": {},
   "cell_type": "markdown",
   "metadata": {},
   "source": [
    "This notebook covers the basic of creating UDTFs for manipulating a `GeoPoint`. A `GeoPoint` is a struct holding two coordinates: `x` and `y`.\n",
    "\n",
    "```c\n",
    "struct Point2D {\n",
    "    float x;\n",
    "    float y;\n",
    "};\n",
    "```"
   ]
  },
  {
   "attachments": {},
   "cell_type": "markdown",
   "metadata": {},
   "source": [
    "For the API, check the RBC ReadTheDocs page:\n",
    "* [`Column<GeoPoint>`](https://rbc.readthedocs.io/en/latest/generated/rbc.heavydb.ColumnGeoPoint.html#rbc.heavydb.ColumnGeoPoint)\n",
    "* [`GeoPoint`](https://rbc.readthedocs.io/en/latest/generated/rbc.heavydb.GeoPoint.html#rbc.heavydb.GeoPoint)"
   ]
  },
  {
   "cell_type": "code",
   "execution_count": 1,
   "metadata": {},
   "outputs": [],
   "source": [
    "import warnings; warnings.filterwarnings('ignore')"
   ]
  },
  {
   "attachments": {},
   "cell_type": "markdown",
   "metadata": {},
   "source": [
    "### Connect to the HeavyDB server"
   ]
  },
  {
   "cell_type": "code",
   "execution_count": 2,
   "metadata": {},
   "outputs": [],
   "source": [
    "# NBVAL_IGNORE_OUTPUT\n",
    "from rbc.heavydb import RemoteHeavyDB\n",
    "heavydb = RemoteHeavyDB(user='admin', password='HyperInteractive',\n",
    "                        host='127.0.0.1', port=6274)"
   ]
  },
  {
   "attachments": {},
   "cell_type": "markdown",
   "metadata": {},
   "source": [
    "GeoPoint requires HeavyDB 7.0 or newer"
   ]
  },
  {
   "cell_type": "code",
   "execution_count": 3,
   "metadata": {},
   "outputs": [
    {
     "data": {
      "text/plain": [
       "(7, 0, 0)"
      ]
     },
     "execution_count": 3,
     "metadata": {},
     "output_type": "execute_result"
    }
   ],
   "source": [
    "heavydb.version[:3]"
   ]
  },
  {
   "attachments": {},
   "cell_type": "markdown",
   "metadata": {},
   "source": [
    "### Load test data"
   ]
  },
  {
   "cell_type": "code",
   "execution_count": 4,
   "metadata": {},
   "outputs": [],
   "source": [
    "from util import load_test_data\n",
    "from rbc.tests import _PointTestTable\n",
    "load_test_data(heavydb, _PointTestTable, 'point_table')"
   ]
  },
  {
   "attachments": {},
   "cell_type": "markdown",
   "metadata": {},
   "source": [
    "List of points in \"point_table\""
   ]
  },
  {
   "cell_type": "code",
   "execution_count": 5,
   "metadata": {},
   "outputs": [
    {
     "data": {
      "text/html": [
       "<div>\n",
       "<style scoped>\n",
       "    .dataframe tbody tr th:only-of-type {\n",
       "        vertical-align: middle;\n",
       "    }\n",
       "\n",
       "    .dataframe tbody tr th {\n",
       "        vertical-align: top;\n",
       "    }\n",
       "\n",
       "    .dataframe thead th {\n",
       "        text-align: right;\n",
       "    }\n",
       "</style>\n",
       "<table border=\"1\" class=\"dataframe\">\n",
       "  <thead>\n",
       "    <tr style=\"text-align: right;\">\n",
       "      <th></th>\n",
       "      <th>p1</th>\n",
       "      <th>p2</th>\n",
       "      <th>p3</th>\n",
       "      <th>p4</th>\n",
       "    </tr>\n",
       "  </thead>\n",
       "  <tbody>\n",
       "    <tr>\n",
       "      <th>0</th>\n",
       "      <td>POINT (1 2)</td>\n",
       "      <td>POINT (2.99999999022111 3.99999997299165)</td>\n",
       "      <td>POINT (5 6)</td>\n",
       "      <td>POINT (7 8)</td>\n",
       "    </tr>\n",
       "    <tr>\n",
       "      <th>1</th>\n",
       "      <td>POINT (9 8)</td>\n",
       "      <td>POINT (6.99999992130324 5.99999998044223)</td>\n",
       "      <td>POINT (5 4)</td>\n",
       "      <td>POINT (3 2)</td>\n",
       "    </tr>\n",
       "    <tr>\n",
       "      <th>2</th>\n",
       "      <td>None</td>\n",
       "      <td>None</td>\n",
       "      <td>None</td>\n",
       "      <td>None</td>\n",
       "    </tr>\n",
       "  </tbody>\n",
       "</table>\n",
       "</div>"
      ],
      "text/plain": [
       "            p1                                         p2           p3  \\\n",
       "0  POINT (1 2)  POINT (2.99999999022111 3.99999997299165)  POINT (5 6)   \n",
       "1  POINT (9 8)  POINT (6.99999992130324 5.99999998044223)  POINT (5 4)   \n",
       "2         None                                       None         None   \n",
       "\n",
       "            p4  \n",
       "0  POINT (7 8)  \n",
       "1  POINT (3 2)  \n",
       "2         None  "
      ]
     },
     "execution_count": 5,
     "metadata": {},
     "output_type": "execute_result"
    }
   ],
   "source": [
    "import pandas as pd\n",
    "descr, points = heavydb.sql_execute('select * from point_table')\n",
    "pd.DataFrame(list(points), columns=map(lambda x: x.name, descr))"
   ]
  },
  {
   "attachments": {},
   "cell_type": "markdown",
   "metadata": {},
   "source": [
    "### Define a function that operate on GeoPoints"
   ]
  },
  {
   "attachments": {},
   "cell_type": "markdown",
   "metadata": {},
   "source": [
    "`rbc_ct_shift` shifts each point by a value defined in the SQL query"
   ]
  },
  {
   "cell_type": "code",
   "execution_count": 6,
   "metadata": {},
   "outputs": [],
   "source": [
    "from rbc.heavydb import Point2D\n",
    "\n",
    "@heavydb(\"int32(TableFunctionManager, Column<T>, double, double, OutputColumn<T>)\",\n",
    "         T=['GeoPoint'], devices=['cpu'])\n",
    "def rbc_ct_shift(mgr, points, x, y, shifted_points):\n",
    "    size = len(points)\n",
    "    mgr.set_output_row_size(size)\n",
    "    for i in range(size):\n",
    "        if points.is_null(i):\n",
    "            shifted_points.set_null(i)\n",
    "        else:\n",
    "            point = points[i]\n",
    "            shifted_points.set_item(i, Point2D(point.x + x, point.y + y))\n",
    "    return size"
   ]
  },
  {
   "cell_type": "code",
   "execution_count": 7,
   "metadata": {},
   "outputs": [],
   "source": [
    "col = 'p1'\n",
    "table_name = 'point_table'"
   ]
  },
  {
   "attachments": {},
   "cell_type": "markdown",
   "metadata": {},
   "source": [
    "Original set of points in `p1` column:"
   ]
  },
  {
   "cell_type": "code",
   "execution_count": 8,
   "metadata": {},
   "outputs": [
    {
     "data": {
      "text/html": [
       "<div>\n",
       "<style scoped>\n",
       "    .dataframe tbody tr th:only-of-type {\n",
       "        vertical-align: middle;\n",
       "    }\n",
       "\n",
       "    .dataframe tbody tr th {\n",
       "        vertical-align: top;\n",
       "    }\n",
       "\n",
       "    .dataframe thead th {\n",
       "        text-align: right;\n",
       "    }\n",
       "</style>\n",
       "<table border=\"1\" class=\"dataframe\">\n",
       "  <thead>\n",
       "    <tr style=\"text-align: right;\">\n",
       "      <th></th>\n",
       "      <th>p1</th>\n",
       "    </tr>\n",
       "  </thead>\n",
       "  <tbody>\n",
       "    <tr>\n",
       "      <th>0</th>\n",
       "      <td>POINT (1 2)</td>\n",
       "    </tr>\n",
       "    <tr>\n",
       "      <th>1</th>\n",
       "      <td>POINT (9 8)</td>\n",
       "    </tr>\n",
       "    <tr>\n",
       "      <th>2</th>\n",
       "      <td>None</td>\n",
       "    </tr>\n",
       "  </tbody>\n",
       "</table>\n",
       "</div>"
      ],
      "text/plain": [
       "            p1\n",
       "0  POINT (1 2)\n",
       "1  POINT (9 8)\n",
       "2         None"
      ]
     },
     "execution_count": 8,
     "metadata": {},
     "output_type": "execute_result"
    }
   ],
   "source": [
    "descr, result = heavydb.sql_execute(f'select p1 from {table_name}')\n",
    "pd.DataFrame(list(result), columns=map(lambda x: x.name, descr))"
   ]
  },
  {
   "attachments": {},
   "cell_type": "markdown",
   "metadata": {},
   "source": [
    "Shift each point `p` by:\n",
    "* `p.x += 2`\n",
    "* `p.y += 10`"
   ]
  },
  {
   "cell_type": "code",
   "execution_count": 9,
   "metadata": {},
   "outputs": [
    {
     "name": "stderr",
     "output_type": "stream",
     "text": [
      "'znver3' is not a recognized processor for this target (ignoring processor)\n",
      "'znver3' is not a recognized processor for this target (ignoring processor)\n",
      "'znver3' is not a recognized processor for this target (ignoring processor)\n",
      "'znver3' is not a recognized processor for this target (ignoring processor)\n",
      "'znver3' is not a recognized processor for this target (ignoring processor)\n",
      "'znver3' is not a recognized processor for this target (ignoring processor)\n",
      "'znver3' is not a recognized processor for this target (ignoring processor)\n",
      "'znver3' is not a recognized processor for this target (ignoring processor)\n",
      "'znver3' is not a recognized processor for this target (ignoring processor)\n",
      "'znver3' is not a recognized processor for this target (ignoring processor)\n",
      "'znver3' is not a recognized processor for this target (ignoring processor)\n",
      "'znver3' is not a recognized processor for this target (ignoring processor)\n"
     ]
    },
    {
     "data": {
      "text/html": [
       "<div>\n",
       "<style scoped>\n",
       "    .dataframe tbody tr th:only-of-type {\n",
       "        vertical-align: middle;\n",
       "    }\n",
       "\n",
       "    .dataframe tbody tr th {\n",
       "        vertical-align: top;\n",
       "    }\n",
       "\n",
       "    .dataframe thead th {\n",
       "        text-align: right;\n",
       "    }\n",
       "</style>\n",
       "<table border=\"1\" class=\"dataframe\">\n",
       "  <thead>\n",
       "    <tr style=\"text-align: right;\">\n",
       "      <th></th>\n",
       "      <th>out0</th>\n",
       "    </tr>\n",
       "  </thead>\n",
       "  <tbody>\n",
       "    <tr>\n",
       "      <th>0</th>\n",
       "      <td>POINT (3 12)</td>\n",
       "    </tr>\n",
       "    <tr>\n",
       "      <th>1</th>\n",
       "      <td>POINT (11 18)</td>\n",
       "    </tr>\n",
       "    <tr>\n",
       "      <th>2</th>\n",
       "      <td>None</td>\n",
       "    </tr>\n",
       "  </tbody>\n",
       "</table>\n",
       "</div>"
      ],
      "text/plain": [
       "            out0\n",
       "0   POINT (3 12)\n",
       "1  POINT (11 18)\n",
       "2           None"
      ]
     },
     "execution_count": 9,
     "metadata": {},
     "output_type": "execute_result"
    }
   ],
   "source": [
    "shift_x = '2'\n",
    "shift_y = '10'\n",
    "\n",
    "query = (f'SELECT * FROM TABLE(rbc_ct_shift('\n",
    "         f'cursor(SELECT {col} FROM {table_name}), '\n",
    "         f'{shift_x}, {shift_y}));')\n",
    "\n",
    "descr, result = heavydb.sql_execute(query)\n",
    "pd.DataFrame(list(result), columns=map(lambda x: x.name, descr))"
   ]
  },
  {
   "attachments": {},
   "cell_type": "markdown",
   "metadata": {},
   "source": [
    "Other examples can be found in the rbc test suite for `GeoPoint`:\n",
    "\n",
    "https://github.com/xnd-project/rbc/blob/main/rbc/tests/heavydb/test_geopoint.py"
   ]
  }
 ],
 "metadata": {
  "kernelspec": {
   "display_name": "Python 3",
   "language": "python",
   "name": "python3"
  },
  "language_info": {
   "codemirror_mode": {
    "name": "ipython",
    "version": 3
   },
   "file_extension": ".py",
   "mimetype": "text/x-python",
   "name": "python",
   "nbconvert_exporter": "python",
   "pygments_lexer": "ipython3",
   "version": "3.10.11"
  },
  "orig_nbformat": 4
 },
 "nbformat": 4,
 "nbformat_minor": 2
}
