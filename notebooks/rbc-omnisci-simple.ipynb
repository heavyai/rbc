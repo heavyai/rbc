{
 "cells": [
  {
   "cell_type": "code",
   "execution_count": null,
   "metadata": {},
   "outputs": [],
   "source": [
    "import warnings; warnings.filterwarnings('ignore')"
   ]
  },
  {
   "cell_type": "code",
   "execution_count": 7,
   "metadata": {},
   "outputs": [],
   "source": [
    "from collections import defaultdict"
   ]
  },
  {
   "cell_type": "code",
   "execution_count": 1,
   "metadata": {},
   "outputs": [],
   "source": [
    "from rbc.omniscidb import RemoteOmnisci"
   ]
  },
  {
   "cell_type": "code",
   "execution_count": 3,
   "metadata": {},
   "outputs": [],
   "source": [
    "# NBVAL_IGNORE_OUTPUT\n",
    "omni = RemoteOmnisci(user='admin', password='HyperInteractive',\n",
    "                     host='127.0.0.1', port=6274, dbname='omnisci')"
   ]
  },
  {
   "cell_type": "code",
   "execution_count": 11,
   "metadata": {},
   "outputs": [],
   "source": [
    "omni.sql_execute('drop table if exists mytable')\n",
    "omni.sql_execute('create table if not exists mytable (x FLOAT, y DOUBLE, i INT, j BIGINT);');\n",
    "data = defaultdict(list)\n",
    "for i in range(5):\n",
    "    data['x'].append(i)\n",
    "    data['y'].append(i)\n",
    "    data['i'].append(i)\n",
    "    data['j'].append(i)\n",
    "omni.load_table_columnar('mytable', **data)"
   ]
  },
  {
   "cell_type": "code",
   "execution_count": 9,
   "metadata": {},
   "outputs": [],
   "source": [
    "# Overloading UDFs\n",
    "@omni('f32(f32)', 'f64(f64)')\n",
    "def incr(v):\n",
    "    return v + 1\n",
    "@omni('i32(i32)', 'i64(i64)')\n",
    "def incr(v):\n",
    "    return v + 10"
   ]
  },
  {
   "cell_type": "code",
   "execution_count": 10,
   "metadata": {},
   "outputs": [
    {
     "data": {
      "text/plain": [
       "[(1.0, 2.0, 10, 20),\n",
       " (2.0, 3.0, 11, 21),\n",
       " (3.0, 4.0, 12, 22),\n",
       " (4.0, 5.0, 13, 23),\n",
       " (5.0, 6.0, 14, 24)]"
      ]
     },
     "execution_count": 10,
     "metadata": {},
     "output_type": "execute_result"
    }
   ],
   "source": [
    "descr, result = omni.sql_execute(\n",
    "    'select incr(x), incr(incr(y)), incr(i), incr(incr(j))'\n",
    "    'from mytable')\n",
    "\n",
    "list(result)"
   ]
  }
 ],
 "metadata": {
  "kernelspec": {
   "display_name": "Python 3",
   "language": "python",
   "name": "python3"
  },
  "language_info": {
   "codemirror_mode": {
    "name": "ipython",
    "version": 3
   },
   "file_extension": ".py",
   "mimetype": "text/x-python",
   "name": "python",
   "nbconvert_exporter": "python",
   "pygments_lexer": "ipython3",
   "version": "3.8.6"
  }
 },
 "nbformat": 4,
 "nbformat_minor": 4
}
