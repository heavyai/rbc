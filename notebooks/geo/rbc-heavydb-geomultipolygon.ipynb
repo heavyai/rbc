{
 "cells": [
  {
   "attachments": {},
   "cell_type": "markdown",
   "metadata": {},
   "source": [
    "This notebook covers the basic of creating UDTFs for manipulating a `GeoMultiPolygon`: A set of one or more associated lines, each of two or more points.\n",
    "\n",
    "For example: `MULTIPOLYGON(((0 0,4 0,4 4,0 4,0 0),(1 1,2 1,2 2,1 2,1 1)), ((-1 -1,-1 -2,-2 -2,-2 -1,-1 -1)))`"
   ]
  },
  {
   "attachments": {},
   "cell_type": "markdown",
   "metadata": {},
   "source": [
    "For the API, check the RBC ReadTheDocs page:\n",
    "* [`Column<GeoMultiPolygon>`](https://rbc.readthedocs.io/en/latest/generated/rbc.heavydb.ColumnGeoMultiPolygon.html#rbc.heavydb.ColumnGeoMultiPolygon)\n",
    "* [`GeoMultiPolygon`](https://rbc.readthedocs.io/en/latest/generated/rbc.heavydb.GeoMultiPolygon.html#rbc.heavydb.GeoMultiPolygon)"
   ]
  },
  {
   "cell_type": "code",
   "execution_count": 93,
   "metadata": {},
   "outputs": [],
   "source": [
    "import warnings; warnings.filterwarnings('ignore')"
   ]
  },
  {
   "attachments": {},
   "cell_type": "markdown",
   "metadata": {},
   "source": [
    "### Connect to the HeavyDB server"
   ]
  },
  {
   "cell_type": "code",
   "execution_count": 94,
   "metadata": {},
   "outputs": [],
   "source": [
    "# NBVAL_IGNORE_OUTPUT\n",
    "from rbc.heavydb import RemoteHeavyDB\n",
    "heavydb = RemoteHeavyDB(user='admin', password='HyperInteractive',\n",
    "                        host='127.0.0.1', port=6274)"
   ]
  },
  {
   "attachments": {},
   "cell_type": "markdown",
   "metadata": {},
   "source": [
    "GeoMultiLineString requires HeavyDB 7.0 or newer"
   ]
  },
  {
   "cell_type": "code",
   "execution_count": 95,
   "metadata": {},
   "outputs": [
    {
     "data": {
      "text/plain": [
       "(7, 0, 0)"
      ]
     },
     "execution_count": 95,
     "metadata": {},
     "output_type": "execute_result"
    }
   ],
   "source": [
    "heavydb.version[:3]"
   ]
  },
  {
   "attachments": {},
   "cell_type": "markdown",
   "metadata": {},
   "source": [
    "### Load test data"
   ]
  },
  {
   "cell_type": "code",
   "execution_count": 96,
   "metadata": {},
   "outputs": [],
   "source": [
    "from util import load_test_data\n",
    "from rbc.tests import _MultiPolygonTestTable\n",
    "table_name = 'mpolygon_table'\n",
    "load_test_data(heavydb, _MultiPolygonTestTable, table_name)"
   ]
  },
  {
   "attachments": {},
   "cell_type": "markdown",
   "metadata": {},
   "source": [
    "List of multilinestrings in `mline_table`"
   ]
  },
  {
   "cell_type": "code",
   "execution_count": 97,
   "metadata": {},
   "outputs": [
    {
     "data": {
      "text/html": [
       "<div>\n",
       "<style scoped>\n",
       "    .dataframe tbody tr th:only-of-type {\n",
       "        vertical-align: middle;\n",
       "    }\n",
       "\n",
       "    .dataframe tbody tr th {\n",
       "        vertical-align: top;\n",
       "    }\n",
       "\n",
       "    .dataframe thead th {\n",
       "        text-align: right;\n",
       "    }\n",
       "</style>\n",
       "<table border=\"1\" class=\"dataframe\">\n",
       "  <thead>\n",
       "    <tr style=\"text-align: right;\">\n",
       "      <th></th>\n",
       "      <th>mp1</th>\n",
       "      <th>mp2</th>\n",
       "      <th>mp3</th>\n",
       "      <th>mp4</th>\n",
       "    </tr>\n",
       "  </thead>\n",
       "  <tbody>\n",
       "    <tr>\n",
       "      <th>0</th>\n",
       "      <td>MULTIPOLYGON (((1 2,3 4,5 6,7 8,9 10,1 2),(1 2...</td>\n",
       "      <td>MULTIPOLYGON (((0 0,4.99999995576218 0.0,4.999...</td>\n",
       "      <td>MULTIPOLYGON (((0 0,6 0,6 6,0 6,0 0),(3 3,3 2,...</td>\n",
       "      <td>MULTIPOLYGON (((0 0,7 0,7 7,0 7,0 0),(4 4,4 2,...</td>\n",
       "    </tr>\n",
       "    <tr>\n",
       "      <th>1</th>\n",
       "      <td>MULTIPOLYGON (((0 0,5 0,5 5,0 5,0 0)))</td>\n",
       "      <td>MULTIPOLYGON (((0 0,5.99999998044223 0.0,5.999...</td>\n",
       "      <td>MULTIPOLYGON (((0 0,7 0,7 7,0 7,0 0)))</td>\n",
       "      <td>MULTIPOLYGON (((0 0,4 0,4 4,0 4,0 0)))</td>\n",
       "    </tr>\n",
       "    <tr>\n",
       "      <th>2</th>\n",
       "      <td>MULTIPOLYGON (((1 2,3 4,5 6,7 8,9 10,1 2),(2 3...</td>\n",
       "      <td>MULTIPOLYGON (((0 0,4.99999995576218 0.0,4.999...</td>\n",
       "      <td>MULTIPOLYGON (((0 0,6 0,6 6,0 6,0 0),(3 3,3 2,...</td>\n",
       "      <td>MULTIPOLYGON (((0 0,7 0,7 7,0 7,0 0),(4 4,4 2,...</td>\n",
       "    </tr>\n",
       "    <tr>\n",
       "      <th>3</th>\n",
       "      <td>None</td>\n",
       "      <td>None</td>\n",
       "      <td>None</td>\n",
       "      <td>None</td>\n",
       "    </tr>\n",
       "  </tbody>\n",
       "</table>\n",
       "</div>"
      ],
      "text/plain": [
       "                                                 mp1  \\\n",
       "0  MULTIPOLYGON (((1 2,3 4,5 6,7 8,9 10,1 2),(1 2...   \n",
       "1             MULTIPOLYGON (((0 0,5 0,5 5,0 5,0 0)))   \n",
       "2  MULTIPOLYGON (((1 2,3 4,5 6,7 8,9 10,1 2),(2 3...   \n",
       "3                                               None   \n",
       "\n",
       "                                                 mp2  \\\n",
       "0  MULTIPOLYGON (((0 0,4.99999995576218 0.0,4.999...   \n",
       "1  MULTIPOLYGON (((0 0,5.99999998044223 0.0,5.999...   \n",
       "2  MULTIPOLYGON (((0 0,4.99999995576218 0.0,4.999...   \n",
       "3                                               None   \n",
       "\n",
       "                                                 mp3  \\\n",
       "0  MULTIPOLYGON (((0 0,6 0,6 6,0 6,0 0),(3 3,3 2,...   \n",
       "1             MULTIPOLYGON (((0 0,7 0,7 7,0 7,0 0)))   \n",
       "2  MULTIPOLYGON (((0 0,6 0,6 6,0 6,0 0),(3 3,3 2,...   \n",
       "3                                               None   \n",
       "\n",
       "                                                 mp4  \n",
       "0  MULTIPOLYGON (((0 0,7 0,7 7,0 7,0 0),(4 4,4 2,...  \n",
       "1             MULTIPOLYGON (((0 0,4 0,4 4,0 4,0 0)))  \n",
       "2  MULTIPOLYGON (((0 0,7 0,7 7,0 7,0 0),(4 4,4 2,...  \n",
       "3                                               None  "
      ]
     },
     "execution_count": 97,
     "metadata": {},
     "output_type": "execute_result"
    }
   ],
   "source": [
    "import pandas as pd\n",
    "descr, result = heavydb.sql_execute(f'select * from {table_name}')\n",
    "pd.DataFrame(list(result), columns=map(lambda x: x.name, descr))"
   ]
  },
  {
   "attachments": {},
   "cell_type": "markdown",
   "metadata": {},
   "source": [
    "### Define a function that operate on GeoMultiPolygon"
   ]
  },
  {
   "attachments": {},
   "cell_type": "markdown",
   "metadata": {},
   "source": [
    "Function `get_polygon` takes a `Column<GeoMultiPolygon>` as input and construct a polygon."
   ]
  },
  {
   "cell_type": "code",
   "execution_count": 98,
   "metadata": {},
   "outputs": [],
   "source": [
    "@heavydb(\"int32(TableFunctionManager, Column<Z>, int64, OutputColumn<K>)\",\n",
    "            Z=['GeoMultiPolygon'], K=['GeoPolygon'], devices=['cpu'])\n",
    "def get_polygon(mgr, mpolygons, n, polygons):\n",
    "    size = len(mpolygons)\n",
    "    mgr.set_output_item_values_total_number(0, mpolygons.get_n_of_values())\n",
    "    mgr.set_output_row_size(size)\n",
    "    for i in range(size):\n",
    "        if mpolygons.is_null(i):\n",
    "            polygons.set_null(i)\n",
    "        else:\n",
    "            sz = len(mpolygons[i])\n",
    "            if n < 1 or n > sz:\n",
    "                polygons.set_null(i)\n",
    "            else:\n",
    "                polygons.set_item(i, mpolygons[i][n - 1])\n",
    "    return size"
   ]
  },
  {
   "cell_type": "code",
   "execution_count": 99,
   "metadata": {},
   "outputs": [],
   "source": [
    "from pprint import pprint"
   ]
  },
  {
   "cell_type": "code",
   "execution_count": 100,
   "metadata": {},
   "outputs": [
    {
     "name": "stdout",
     "output_type": "stream",
     "text": [
      "[('MULTIPOLYGON (((1 2,3 4,5 6,7 8,9 10,1 2),(1 2,3 4,2 3,1 2)))',),\n",
      " ('MULTIPOLYGON (((0 0,5 0,5 5,0 5,0 0)))',),\n",
      " ('MULTIPOLYGON (((1 2,3 4,5 6,7 8,9 10,1 2),(2 3,1 2,3 4,2 3),(9 10,7 8,5 6,9 '\n",
      "  '10)))',),\n",
      " (None,)]\n"
     ]
    }
   ],
   "source": [
    "descr, result = heavydb.sql_execute(f'select mp1 from {table_name}')\n",
    "pprint(list(result))"
   ]
  },
  {
   "cell_type": "code",
   "execution_count": 102,
   "metadata": {},
   "outputs": [
    {
     "name": "stdout",
     "output_type": "stream",
     "text": [
      "[('POLYGON ((1 2,3 4,5 6,7 8,9 10,1 2),(1 2,2 3,3 4,1 2))',),\n",
      " ('POLYGON ((0 0,5 0,5 5,0 5,0 0))',),\n",
      " ('POLYGON ((1 2,3 4,5 6,7 8,9 10,1 2),(2 3,3 4,1 2,2 3),(9 10,5 6,7 8,9 '\n",
      "  '10))',),\n",
      " (None,)]\n"
     ]
    }
   ],
   "source": [
    "query = (f'''\n",
    "    SELECT * FROM TABLE(get_polygon(\n",
    "        cursor(SELECT mp1 from {table_name}),\n",
    "        1\n",
    "    ))\n",
    "''')\n",
    "\n",
    "descr, result = heavydb.sql_execute(query)\n",
    "pprint(list(result))"
   ]
  }
 ],
 "metadata": {
  "kernelspec": {
   "display_name": "Python 3",
   "language": "python",
   "name": "python3"
  },
  "language_info": {
   "codemirror_mode": {
    "name": "ipython",
    "version": 3
   },
   "file_extension": ".py",
   "mimetype": "text/x-python",
   "name": "python",
   "nbconvert_exporter": "python",
   "pygments_lexer": "ipython3",
   "version": "3.10.11"
  },
  "orig_nbformat": 4
 },
 "nbformat": 4,
 "nbformat_minor": 2
}
