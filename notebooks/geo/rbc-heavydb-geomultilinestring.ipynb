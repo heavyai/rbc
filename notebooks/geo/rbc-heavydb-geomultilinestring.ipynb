{
 "cells": [
  {
   "attachments": {},
   "cell_type": "markdown",
   "metadata": {},
   "source": [
    "This notebook covers the basic of creating UDTFs for manipulating a `GeoMultiLineString`: A set of one or more associated lines, each of two or more points.\n",
    "\n",
    "For example: `MULTILINESTRING((0 0, 1 0, 2 0), (0 1, 1 1, 2 1))`"
   ]
  },
  {
   "attachments": {},
   "cell_type": "markdown",
   "metadata": {},
   "source": [
    "For the API, check the RBC ReadTheDocs page:\n",
    "* [`Column<GeoMultiLineString>`](https://rbc.readthedocs.io/en/latest/generated/rbc.heavydb.ColumnGeoMultiLineString.html#rbc.heavydb.ColumnGeoMultiLineString)\n",
    "* [`GeoMultiLineString`](https://rbc.readthedocs.io/en/latest/generated/rbc.heavydb.GeoMultiLineString.html#rbc.heavydb.GeoMultiLineString)"
   ]
  },
  {
   "cell_type": "code",
   "execution_count": 14,
   "metadata": {},
   "outputs": [],
   "source": [
    "import warnings; warnings.filterwarnings('ignore')"
   ]
  },
  {
   "attachments": {},
   "cell_type": "markdown",
   "metadata": {},
   "source": [
    "### Connect to the HeavyDB server"
   ]
  },
  {
   "cell_type": "code",
   "execution_count": 15,
   "metadata": {},
   "outputs": [],
   "source": [
    "# NBVAL_IGNORE_OUTPUT\n",
    "from rbc.heavydb import RemoteHeavyDB\n",
    "heavydb = RemoteHeavyDB(user='admin', password='HyperInteractive',\n",
    "                        host='127.0.0.1', port=6274)"
   ]
  },
  {
   "attachments": {},
   "cell_type": "markdown",
   "metadata": {},
   "source": [
    "GeoMultiLineString requires HeavyDB 7.0 or newer"
   ]
  },
  {
   "cell_type": "code",
   "execution_count": 24,
   "metadata": {},
   "outputs": [
    {
     "data": {
      "text/plain": [
       "(7, 0, 0)"
      ]
     },
     "execution_count": 24,
     "metadata": {},
     "output_type": "execute_result"
    }
   ],
   "source": [
    "# NBVAL_IGNORE_OUTPUT\n",
    "heavydb.version[:3]"
   ]
  },
  {
   "attachments": {},
   "cell_type": "markdown",
   "metadata": {},
   "source": [
    "### Load test data"
   ]
  },
  {
   "cell_type": "code",
   "execution_count": 17,
   "metadata": {},
   "outputs": [],
   "source": [
    "from util import load_test_data\n",
    "from rbc.tests import _MultiLineStringTestTable\n",
    "table_name = 'mline_table'\n",
    "load_test_data(heavydb, _MultiLineStringTestTable, table_name)"
   ]
  },
  {
   "attachments": {},
   "cell_type": "markdown",
   "metadata": {},
   "source": [
    "List of multilinestrings in `mline_table`"
   ]
  },
  {
   "cell_type": "code",
   "execution_count": 18,
   "metadata": {},
   "outputs": [
    {
     "data": {
      "text/html": [
       "<div>\n",
       "<style scoped>\n",
       "    .dataframe tbody tr th:only-of-type {\n",
       "        vertical-align: middle;\n",
       "    }\n",
       "\n",
       "    .dataframe tbody tr th {\n",
       "        vertical-align: top;\n",
       "    }\n",
       "\n",
       "    .dataframe thead th {\n",
       "        text-align: right;\n",
       "    }\n",
       "</style>\n",
       "<table border=\"1\" class=\"dataframe\">\n",
       "  <thead>\n",
       "    <tr style=\"text-align: right;\">\n",
       "      <th></th>\n",
       "      <th>ml1</th>\n",
       "      <th>ml2</th>\n",
       "      <th>ml3</th>\n",
       "      <th>ml4</th>\n",
       "    </tr>\n",
       "  </thead>\n",
       "  <tbody>\n",
       "    <tr>\n",
       "      <th>0</th>\n",
       "      <td>MULTILINESTRING ((1 2,3 4,5 6,7 8,9 10),(2 3,3...</td>\n",
       "      <td>MULTILINESTRING ((0 0,5 0,5 5,0 5),(2 2,2 1,1 ...</td>\n",
       "      <td>MULTILINESTRING ((0 0,6 0,6 6,0 6),(3 3,3 2,2 ...</td>\n",
       "      <td>MULTILINESTRING ((0 0,7 0,7 7,0 7),(4 4,2 4,2 ...</td>\n",
       "    </tr>\n",
       "    <tr>\n",
       "      <th>1</th>\n",
       "      <td>MULTILINESTRING ((0 0,5 0,5 5,0 5))</td>\n",
       "      <td>MULTILINESTRING ((0 0,6 0,6 6,0 6))</td>\n",
       "      <td>MULTILINESTRING ((0 0,7 0,7 7,0 7))</td>\n",
       "      <td>MULTILINESTRING ((0 0,4 0,4 4,0 4))</td>\n",
       "    </tr>\n",
       "    <tr>\n",
       "      <th>2</th>\n",
       "      <td>MULTILINESTRING ((1 2,3 4,5 6,7 8,9 10),(3 4,1...</td>\n",
       "      <td>MULTILINESTRING ((0 0,5 0,5 5,0 5),(2 2,2 1,1 ...</td>\n",
       "      <td>MULTILINESTRING ((0 0,6 0,6 6,0 6),(3 3,3 2,2 ...</td>\n",
       "      <td>MULTILINESTRING ((0 0,7 0,7 7,0 7),(4 4,2 4,2 ...</td>\n",
       "    </tr>\n",
       "    <tr>\n",
       "      <th>3</th>\n",
       "      <td>None</td>\n",
       "      <td>None</td>\n",
       "      <td>None</td>\n",
       "      <td>None</td>\n",
       "    </tr>\n",
       "  </tbody>\n",
       "</table>\n",
       "</div>"
      ],
      "text/plain": [
       "                                                 ml1  \\\n",
       "0  MULTILINESTRING ((1 2,3 4,5 6,7 8,9 10),(2 3,3...   \n",
       "1                MULTILINESTRING ((0 0,5 0,5 5,0 5))   \n",
       "2  MULTILINESTRING ((1 2,3 4,5 6,7 8,9 10),(3 4,1...   \n",
       "3                                               None   \n",
       "\n",
       "                                                 ml2  \\\n",
       "0  MULTILINESTRING ((0 0,5 0,5 5,0 5),(2 2,2 1,1 ...   \n",
       "1                MULTILINESTRING ((0 0,6 0,6 6,0 6))   \n",
       "2  MULTILINESTRING ((0 0,5 0,5 5,0 5),(2 2,2 1,1 ...   \n",
       "3                                               None   \n",
       "\n",
       "                                                 ml3  \\\n",
       "0  MULTILINESTRING ((0 0,6 0,6 6,0 6),(3 3,3 2,2 ...   \n",
       "1                MULTILINESTRING ((0 0,7 0,7 7,0 7))   \n",
       "2  MULTILINESTRING ((0 0,6 0,6 6,0 6),(3 3,3 2,2 ...   \n",
       "3                                               None   \n",
       "\n",
       "                                                 ml4  \n",
       "0  MULTILINESTRING ((0 0,7 0,7 7,0 7),(4 4,2 4,2 ...  \n",
       "1                MULTILINESTRING ((0 0,4 0,4 4,0 4))  \n",
       "2  MULTILINESTRING ((0 0,7 0,7 7,0 7),(4 4,2 4,2 ...  \n",
       "3                                               None  "
      ]
     },
     "execution_count": 18,
     "metadata": {},
     "output_type": "execute_result"
    }
   ],
   "source": [
    "import pandas as pd\n",
    "descr, result = heavydb.sql_execute(f'select * from {table_name}')\n",
    "pd.DataFrame(list(result), columns=map(lambda x: x.name, descr))"
   ]
  },
  {
   "attachments": {},
   "cell_type": "markdown",
   "metadata": {},
   "source": [
    "### Define a function that operate on GeoMultiLineStrings"
   ]
  },
  {
   "attachments": {},
   "cell_type": "markdown",
   "metadata": {},
   "source": [
    "Function `to_polygon` takes a `Column<GeoMultiLineString>` as input and construct a polygon."
   ]
  },
  {
   "cell_type": "code",
   "execution_count": 19,
   "metadata": {},
   "outputs": [],
   "source": [
    "@heavydb(\"int32(TableFunctionManager, Column<Z>, OutputColumn<K>)\",\n",
    "         Z=['GeoMultiLineString'], K=['GeoPolygon'], devices=['cpu'])\n",
    "def to_polygon(mgr, mlinestrings, polygons):\n",
    "    size = len(mlinestrings)\n",
    "    mgr.set_output_item_values_total_number(0, mlinestrings.get_n_of_values())\n",
    "    mgr.set_output_row_size(size)\n",
    "    # Initialize polygons\n",
    "    for i in range(size):\n",
    "        if mlinestrings.is_null(i):\n",
    "            polygons.set_null(i)\n",
    "        else:\n",
    "            coords = mlinestrings[i].to_coords()\n",
    "            polygons[i].from_coords(coords)\n",
    "    return size"
   ]
  },
  {
   "cell_type": "code",
   "execution_count": 20,
   "metadata": {},
   "outputs": [],
   "source": [
    "from pprint import pprint"
   ]
  },
  {
   "cell_type": "code",
   "execution_count": 21,
   "metadata": {},
   "outputs": [
    {
     "name": "stdout",
     "output_type": "stream",
     "text": [
      "[('MULTILINESTRING ((1 2,3 4,5 6,7 8,9 10),(2 3,3 4,1 2))',),\n",
      " ('MULTILINESTRING ((0 0,5 0,5 5,0 5))',),\n",
      " ('MULTILINESTRING ((1 2,3 4,5 6,7 8,9 10),(3 4,1 2,2 3),(5 6,7 8,9 10))',),\n",
      " (None,)]\n"
     ]
    }
   ],
   "source": [
    "descr, result = heavydb.sql_execute(f'select ml1 from {table_name}')\n",
    "pprint(list(result))"
   ]
  },
  {
   "cell_type": "code",
   "execution_count": 23,
   "metadata": {},
   "outputs": [
    {
     "name": "stdout",
     "output_type": "stream",
     "text": [
      "[('POLYGON ((1 2,3 4,5 6,7 8,9 10,1 2),(2 3,3 4,1 2,2 3))',),\n",
      " ('POLYGON ((0 0,5 0,5 5,0 5,0 0))',),\n",
      " ('POLYGON ((1 2,3 4,5 6,7 8,9 10,1 2),(3 4,1 2,2 3,3 4),(5 6,7 8,9 10,5 6))',),\n",
      " (None,)]\n"
     ]
    }
   ],
   "source": [
    "query = (f'''\n",
    "    SELECT * FROM TABLE(to_polygon(\n",
    "        cursor(SELECT ml1 from {table_name})\n",
    "    ))\n",
    "''')\n",
    "\n",
    "descr, result = heavydb.sql_execute(query)\n",
    "pprint(list(result))"
   ]
  }
 ],
 "metadata": {
  "kernelspec": {
   "display_name": "Python 3",
   "language": "python",
   "name": "python3"
  },
  "language_info": {
   "codemirror_mode": {
    "name": "ipython",
    "version": 3
   },
   "file_extension": ".py",
   "mimetype": "text/x-python",
   "name": "python",
   "nbconvert_exporter": "python",
   "pygments_lexer": "ipython3",
   "version": "3.10.11"
  },
  "orig_nbformat": 4
 },
 "nbformat": 4,
 "nbformat_minor": 2
}
