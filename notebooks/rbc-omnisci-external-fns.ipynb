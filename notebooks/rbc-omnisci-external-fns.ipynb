{
 "cells": [
  {
   "cell_type": "markdown",
   "source": [
    "## Example of RBC `external` function"
   ],
   "metadata": {}
  },
  {
   "cell_type": "markdown",
   "source": [
    "The `external` feature provides a way of calling external functions from UDF/UDTFs."
   ],
   "metadata": {}
  },
  {
   "cell_type": "markdown",
   "source": [
    "As a starting point of this notebook, let's connect to the OmniSciDB server and insert some test data"
   ],
   "metadata": {}
  },
  {
   "cell_type": "code",
   "execution_count": 8,
   "source": [
    "import numpy as np"
   ],
   "outputs": [],
   "metadata": {}
  },
  {
   "cell_type": "code",
   "execution_count": 9,
   "source": [
    "from rbc.omniscidb import RemoteOmnisci"
   ],
   "outputs": [],
   "metadata": {}
  },
  {
   "cell_type": "code",
   "execution_count": 10,
   "source": [
    "omnisci = RemoteOmnisci(user='admin', password='HyperInteractive',\n",
    "                        host='127.0.0.1', port=6274, dbname='omnisci')"
   ],
   "outputs": [],
   "metadata": {}
  },
  {
   "cell_type": "markdown",
   "source": [
    "### Now, let's insert some test data..."
   ],
   "metadata": {}
  },
  {
   "cell_type": "markdown",
   "source": [
    "Which consists of 5 negative integers "
   ],
   "metadata": {}
  },
  {
   "cell_type": "code",
   "execution_count": 11,
   "source": [
    "SQL=lambda query: np.array(list(omnisci.sql_execute(query)[1]))\n",
    "SQL('DROP TABLE IF EXISTS test_data');\n",
    "SQL('CREATE TABLE IF NOT EXISTS test_data (X BIGINT)')\n",
    "omnisci.load_table_columnar('test_data', X=[-1, -2, -3, -4, -5])"
   ],
   "outputs": [],
   "metadata": {}
  },
  {
   "cell_type": "code",
   "execution_count": 12,
   "source": [
    "SQL('SELECT * FROM test_data')"
   ],
   "outputs": [
    {
     "output_type": "execute_result",
     "data": {
      "text/plain": [
       "array([[-1],\n",
       "       [-2],\n",
       "       [-3],\n",
       "       [-4],\n",
       "       [-5]])"
      ]
     },
     "metadata": {},
     "execution_count": 12
    }
   ],
   "metadata": {}
  },
  {
   "cell_type": "markdown",
   "source": [
    "## Declare and use external functions"
   ],
   "metadata": {}
  },
  {
   "cell_type": "markdown",
   "source": [
    "RBC defines a helper function `external` which can be used to define and call external functions. e.g. function defined by the server, an external library or from the C standard library. It expects the function declaration in the following forms:"
   ],
   "metadata": {}
  },
  {
   "cell_type": "markdown",
   "source": [
    "#### As a C function declaration:\n",
    "\n",
    "```python\n",
    "from rbc.external import external\n",
    "fn = external('int64 abs(int64)')\n",
    "```"
   ],
   "metadata": {}
  },
  {
   "cell_type": "markdown",
   "source": [
    "#### Function name using a keyword argument\n",
    "\n",
    "```python\n",
    "from rbc.external import external\n",
    "fn = external('int64(int64)', name='abs')\n",
    "```"
   ],
   "metadata": {}
  },
  {
   "cell_type": "markdown",
   "source": [
    "#### A list of signatures\n",
    "\n",
    "```python\n",
    "from rbc.external import external\n",
    "fn = external(['i32(i32)', 'i64(i64)'], name='abs')\n",
    "```"
   ],
   "metadata": {}
  },
  {
   "cell_type": "markdown",
   "source": [
    "## Usage"
   ],
   "metadata": {}
  },
  {
   "cell_type": "markdown",
   "source": [
    "One can use external function from any jitted functions. For instance, let's define and use the `abs` function from the `cmath` library:"
   ],
   "metadata": {}
  },
  {
   "cell_type": "code",
   "execution_count": 28,
   "source": [
    "from rbc.external import external\n",
    "abs = external('int64 abs(int64)')"
   ],
   "outputs": [],
   "metadata": {}
  },
  {
   "cell_type": "markdown",
   "source": [
    "Let's now declare a function that uses the `abs`"
   ],
   "metadata": {}
  },
  {
   "cell_type": "code",
   "execution_count": 29,
   "source": [
    "@omnisci('int64(int64)')\n",
    "def use_abs(i):\n",
    "    return abs(i)"
   ],
   "outputs": [],
   "metadata": {}
  },
  {
   "cell_type": "code",
   "execution_count": 30,
   "source": [
    "result = SQL('SELECT X, use_abs(X) FROM test_data')"
   ],
   "outputs": [],
   "metadata": {}
  },
  {
   "cell_type": "code",
   "execution_count": 31,
   "source": [
    "for r, v in result:\n",
    "    print(f'abs({r}) = {v}')"
   ],
   "outputs": [
    {
     "output_type": "stream",
     "name": "stdout",
     "text": [
      "abs(-1) = 1\n",
      "abs(-2) = 2\n",
      "abs(-3) = 3\n",
      "abs(-4) = 4\n",
      "abs(-5) = 5\n"
     ]
    }
   ],
   "metadata": {}
  },
  {
   "cell_type": "markdown",
   "source": [
    "## Caveats"
   ],
   "metadata": {}
  },
  {
   "cell_type": "markdown",
   "source": [
    "Notice that `abs` is not callable from pure python"
   ],
   "metadata": {}
  },
  {
   "cell_type": "code",
   "execution_count": 32,
   "source": [
    "# NBVAL_RAISES_EXCEPTION\n",
    "abs(-3)"
   ],
   "outputs": [
    {
     "output_type": "error",
     "ename": "NotImplementedError",
     "evalue": "abs is not usable in pure-python",
     "traceback": [
      "\u001b[0;31m---------------------------------------------------------------------------\u001b[0m",
      "\u001b[0;31mNotImplementedError\u001b[0m                       Traceback (most recent call last)",
      "\u001b[0;32m<ipython-input-32-200e9d0206bf>\u001b[0m in \u001b[0;36m<module>\u001b[0;34m()\u001b[0m\n\u001b[0;32m----> 1\u001b[0;31m \u001b[0mabs\u001b[0m\u001b[0;34m(\u001b[0m\u001b[0;34m-\u001b[0m\u001b[0;36m3\u001b[0m\u001b[0;34m)\u001b[0m\u001b[0;34m\u001b[0m\u001b[0;34m\u001b[0m\u001b[0m\n\u001b[0m",
      "\u001b[0;32m/home/guilhermel/git/rbc/rbc/external.py\u001b[0m in \u001b[0;36m__call__\u001b[0;34m(self, *args, **kwargs)\u001b[0m\n\u001b[1;32m     64\u001b[0m         \"\"\"\n\u001b[1;32m     65\u001b[0m         \u001b[0mmsg\u001b[0m \u001b[0;34m=\u001b[0m \u001b[0;34mf\"{self.name} is not usable in pure-python\"\u001b[0m\u001b[0;34m\u001b[0m\u001b[0;34m\u001b[0m\u001b[0m\n\u001b[0;32m---> 66\u001b[0;31m         \u001b[0;32mraise\u001b[0m \u001b[0mNotImplementedError\u001b[0m\u001b[0;34m(\u001b[0m\u001b[0mmsg\u001b[0m\u001b[0;34m)\u001b[0m\u001b[0;34m\u001b[0m\u001b[0;34m\u001b[0m\u001b[0m\n\u001b[0m\u001b[1;32m     67\u001b[0m \u001b[0;34m\u001b[0m\u001b[0m\n\u001b[1;32m     68\u001b[0m     \u001b[0;34m@\u001b[0m\u001b[0mproperty\u001b[0m\u001b[0;34m\u001b[0m\u001b[0;34m\u001b[0m\u001b[0m\n",
      "\u001b[0;31mNotImplementedError\u001b[0m: abs is not usable in pure-python"
     ]
    }
   ],
   "metadata": {}
  }
 ],
 "metadata": {
  "kernelspec": {
   "display_name": "Python 3",
   "language": "python",
   "name": "python3"
  },
  "language_info": {
   "codemirror_mode": {
    "name": "ipython",
    "version": 3
   },
   "file_extension": ".py",
   "mimetype": "text/x-python",
   "name": "python",
   "nbconvert_exporter": "python",
   "pygments_lexer": "ipython3",
   "version": "3.7.9"
  }
 },
 "nbformat": 4,
 "nbformat_minor": 4
}