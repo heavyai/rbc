{
 "cells": [
  {
   "cell_type": "markdown",
   "metadata": {},
   "source": [
    "## Example of RBC `external` function"
   ]
  },
  {
   "cell_type": "markdown",
   "metadata": {},
   "source": [
    "The `external` feature provides a way of calling external functions from UDF/UDTFs."
   ]
  },
  {
   "cell_type": "markdown",
   "metadata": {},
   "source": [
    "As a starting point of this notebook, let's connect to the HeavyDB server and insert some test data"
   ]
  },
  {
   "cell_type": "code",
   "execution_count": 2,
   "metadata": {},
   "outputs": [],
   "source": [
    "import numpy as np"
   ]
  },
  {
   "cell_type": "code",
   "execution_count": 3,
   "metadata": {},
   "outputs": [],
   "source": [
    "from rbc.heavydb import RemoteHeavyDB"
   ]
  },
  {
   "cell_type": "code",
   "execution_count": 4,
   "metadata": {},
   "outputs": [],
   "source": [
    "heavydb = RemoteHeavyDB(user='admin', password='HyperInteractive',\n",
    "                        host='127.0.0.1', port=6274)"
   ]
  },
  {
   "cell_type": "markdown",
   "metadata": {},
   "source": [
    "### Now, let's insert some test data..."
   ]
  },
  {
   "cell_type": "markdown",
   "metadata": {},
   "source": [
    "Which consists of 5 negative integers "
   ]
  },
  {
   "cell_type": "code",
   "execution_count": 5,
   "metadata": {},
   "outputs": [],
   "source": [
    "# NBVAL_IGNORE_OUTPUT\n",
    "SQL=lambda query: np.array(list(heavydb.sql_execute(query)[1]))\n",
    "SQL('DROP TABLE IF EXISTS test_data');\n",
    "SQL('CREATE TABLE IF NOT EXISTS test_data (X BIGINT)')\n",
    "heavydb.load_table_columnar('test_data', X=[-1, -2, -3, -4, -5])"
   ]
  },
  {
   "cell_type": "code",
   "execution_count": 6,
   "metadata": {},
   "outputs": [
    {
     "data": {
      "text/plain": [
       "array([[-1],\n",
       "       [-2],\n",
       "       [-3],\n",
       "       [-4],\n",
       "       [-5]])"
      ]
     },
     "execution_count": 6,
     "metadata": {},
     "output_type": "execute_result"
    }
   ],
   "source": [
    "SQL('SELECT * FROM test_data')"
   ]
  },
  {
   "cell_type": "markdown",
   "metadata": {},
   "source": [
    "## Declare and use external functions"
   ]
  },
  {
   "cell_type": "markdown",
   "metadata": {},
   "source": [
    "RBC defines a helper function `external` which can be used to define and call external functions. e.g. function defined by the server, an external library or from the C standard library. It expects the function declaration in the following forms:"
   ]
  },
  {
   "cell_type": "markdown",
   "metadata": {},
   "source": [
    "#### As a C function declaration:\n",
    "\n",
    "```python\n",
    "from rbc.external import external\n",
    "fn = external('int64 abs(int64)')\n",
    "```"
   ]
  },
  {
   "cell_type": "markdown",
   "metadata": {},
   "source": [
    "#### Function name using a keyword argument\n",
    "\n",
    "```python\n",
    "from rbc.external import external\n",
    "fn = external('int64(int64)', name='abs')\n",
    "```"
   ]
  },
  {
   "cell_type": "markdown",
   "metadata": {},
   "source": [
    "#### A list of signatures\n",
    "\n",
    "```python\n",
    "from rbc.external import external\n",
    "fn = external(['i32(i32)', 'i64(i64)'], name='abs')\n",
    "```"
   ]
  },
  {
   "cell_type": "markdown",
   "metadata": {},
   "source": [
    "## Usage"
   ]
  },
  {
   "cell_type": "markdown",
   "metadata": {},
   "source": [
    "One can use external function from any jitted functions. For instance, let's define and use the `abs` function from the `cmath` library:"
   ]
  },
  {
   "cell_type": "code",
   "execution_count": 7,
   "metadata": {},
   "outputs": [],
   "source": [
    "from rbc.external import external\n",
    "abs = external('int64 abs(int64)')"
   ]
  },
  {
   "cell_type": "markdown",
   "metadata": {},
   "source": [
    "Let's now declare a function that uses the `abs`"
   ]
  },
  {
   "cell_type": "code",
   "execution_count": 8,
   "metadata": {},
   "outputs": [],
   "source": [
    "@heavydb('int64(int64)')\n",
    "def use_abs(i):\n",
    "    return abs(i)"
   ]
  },
  {
   "cell_type": "code",
   "execution_count": 9,
   "metadata": {},
   "outputs": [],
   "source": [
    "# NBVAL_IGNORE_OUTPUT\n",
    "result = SQL('SELECT X, use_abs(X) FROM test_data')"
   ]
  },
  {
   "cell_type": "code",
   "execution_count": 10,
   "metadata": {},
   "outputs": [
    {
     "name": "stdout",
     "output_type": "stream",
     "text": [
      "abs(-1) = 1\n",
      "abs(-2) = 2\n",
      "abs(-3) = 3\n",
      "abs(-4) = 4\n",
      "abs(-5) = 5\n"
     ]
    }
   ],
   "source": [
    "for r, v in result:\n",
    "    print(f'abs({r}) = {v}')"
   ]
  },
  {
   "cell_type": "markdown",
   "metadata": {},
   "source": [
    "## Caveats"
   ]
  },
  {
   "cell_type": "markdown",
   "metadata": {},
   "source": [
    "Notice that `abs` is not callable from pure python"
   ]
  },
  {
   "cell_type": "code",
   "execution_count": 11,
   "metadata": {},
   "outputs": [
    {
     "ename": "NotImplementedError",
     "evalue": "abs is not usable in pure-python",
     "output_type": "error",
     "traceback": [
      "\u001b[0;31m---------------------------------------------------------------------------\u001b[0m",
      "\u001b[0;31mNotImplementedError\u001b[0m                       Traceback (most recent call last)",
      "\u001b[1;32m/home/guilhermeleobas/git/rbc/notebooks/rbc-heavydb-external-fns.ipynb Cell 25'\u001b[0m in \u001b[0;36m<cell line: 2>\u001b[0;34m()\u001b[0m\n\u001b[1;32m      <a href='vscode-notebook-cell://wsl%2Bubuntu-20.04/home/guilhermeleobas/git/rbc/notebooks/rbc-heavydb-external-fns.ipynb#ch0000024vscode-remote?line=0'>1</a>\u001b[0m \u001b[39m# NBVAL_RAISES_EXCEPTION\u001b[39;00m\n\u001b[0;32m----> <a href='vscode-notebook-cell://wsl%2Bubuntu-20.04/home/guilhermeleobas/git/rbc/notebooks/rbc-heavydb-external-fns.ipynb#ch0000024vscode-remote?line=1'>2</a>\u001b[0m \u001b[39mabs\u001b[39;49m(\u001b[39m-\u001b[39;49m\u001b[39m3\u001b[39;49m)\n",
      "File \u001b[0;32m~/git/rbc/rbc/external.py:138\u001b[0m, in \u001b[0;36mExternal.__call__\u001b[0;34m(self, *args, **kwargs)\u001b[0m\n\u001b[1;32m    <a href='file:///home/guilhermeleobas/git/rbc/rbc/external.py?line=133'>134</a>\u001b[0m \u001b[39m\"\"\"\u001b[39;00m\n\u001b[1;32m    <a href='file:///home/guilhermeleobas/git/rbc/rbc/external.py?line=134'>135</a>\u001b[0m \u001b[39mThis is only defined to pretend to be a callable from CPython.\u001b[39;00m\n\u001b[1;32m    <a href='file:///home/guilhermeleobas/git/rbc/rbc/external.py?line=135'>136</a>\u001b[0m \u001b[39m\"\"\"\u001b[39;00m\n\u001b[1;32m    <a href='file:///home/guilhermeleobas/git/rbc/rbc/external.py?line=136'>137</a>\u001b[0m msg \u001b[39m=\u001b[39m \u001b[39mf\u001b[39m\u001b[39m\"\u001b[39m\u001b[39m{\u001b[39;00m\u001b[39mself\u001b[39m\u001b[39m.\u001b[39mname\u001b[39m}\u001b[39;00m\u001b[39m is not usable in pure-python\u001b[39m\u001b[39m\"\u001b[39m\n\u001b[0;32m--> <a href='file:///home/guilhermeleobas/git/rbc/rbc/external.py?line=137'>138</a>\u001b[0m \u001b[39mraise\u001b[39;00m \u001b[39mNotImplementedError\u001b[39;00m(msg)\n",
      "\u001b[0;31mNotImplementedError\u001b[0m: abs is not usable in pure-python"
     ]
    }
   ],
   "source": [
    "# NBVAL_RAISES_EXCEPTION\n",
    "abs(-3)"
   ]
  }
 ],
 "metadata": {
  "kernelspec": {
   "display_name": "Python 3.10.6 ('rbc')",
   "language": "python",
   "name": "python3"
  },
  "language_info": {
   "codemirror_mode": {
    "name": "ipython",
    "version": 3
   },
   "file_extension": ".py",
   "mimetype": "text/x-python",
   "name": "python",
   "nbconvert_exporter": "python",
   "pygments_lexer": "ipython3",
   "version": "3.10.6"
  },
  "vscode": {
   "interpreter": {
    "hash": "5f6d90d93caeb78a4a9681525fbb2db5f2297ad8bb30f07a9c909230e9a71ac3"
   }
  }
 },
 "nbformat": 4,
 "nbformat_minor": 4
}
