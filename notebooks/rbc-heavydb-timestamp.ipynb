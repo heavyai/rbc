{
 "cells": [
  {
   "attachments": {},
   "cell_type": "markdown",
   "metadata": {},
   "source": [
    "### Timestamp"
   ]
  },
  {
   "attachments": {},
   "cell_type": "markdown",
   "metadata": {},
   "source": [
    "This notebook covers the basic of creating UDTFs for manipulating a `Timestamp`. For a list of supported timestamp precisions, check the [Heavy.AI docs page](https://docs.heavy.ai/sql/data-definition-ddl/datatypes-and-fixed-encoding#datatypes)."
   ]
  },
  {
   "attachments": {},
   "cell_type": "markdown",
   "metadata": {},
   "source": [
    "For the API, check the RBC ReadTheDocs page:\n",
    "* [`Timestamp`](https://rbc.readthedocs.io/en/latest/generated/rbc.heavydb.Timestamp.html)"
   ]
  },
  {
   "cell_type": "code",
   "execution_count": 1,
   "metadata": {},
   "outputs": [],
   "source": [
    "import warnings; warnings.filterwarnings('ignore')"
   ]
  },
  {
   "attachments": {},
   "cell_type": "markdown",
   "metadata": {},
   "source": [
    "### Connect to the HeavyDB server"
   ]
  },
  {
   "cell_type": "code",
   "execution_count": 2,
   "metadata": {},
   "outputs": [],
   "source": [
    "# NBVAL_IGNORE_OUTPUT\n",
    "from rbc.heavydb import RemoteHeavyDB\n",
    "heavydb = RemoteHeavyDB(user='admin', password='HyperInteractive',\n",
    "                        host='127.0.0.1', port=6274)"
   ]
  },
  {
   "attachments": {},
   "cell_type": "markdown",
   "metadata": {},
   "source": [
    "Timestamp requires HeavyDB 6.0 or newer"
   ]
  },
  {
   "cell_type": "code",
   "execution_count": 3,
   "metadata": {},
   "outputs": [
    {
     "data": {
      "text/plain": [
       "(7, 0, 0)"
      ]
     },
     "execution_count": 3,
     "metadata": {},
     "output_type": "execute_result"
    }
   ],
   "source": [
    "# NBVAL_IGNORE_OUTPUT\n",
    "heavydb.version[:3]"
   ]
  },
  {
   "attachments": {},
   "cell_type": "markdown",
   "metadata": {},
   "source": [
    "### Load test data"
   ]
  },
  {
   "cell_type": "code",
   "execution_count": 4,
   "metadata": {},
   "outputs": [],
   "source": [
    "from util import load_test_data\n",
    "from rbc.tests import _TimestampTestTable\n",
    "table_name = 'ts_table'\n",
    "load_test_data(heavydb, _TimestampTestTable, table_name)"
   ]
  },
  {
   "attachments": {},
   "cell_type": "markdown",
   "metadata": {},
   "source": [
    "List of columns in the timestamp table"
   ]
  },
  {
   "cell_type": "code",
   "execution_count": 5,
   "metadata": {},
   "outputs": [
    {
     "data": {
      "text/html": [
       "<div>\n",
       "<style scoped>\n",
       "    .dataframe tbody tr th:only-of-type {\n",
       "        vertical-align: middle;\n",
       "    }\n",
       "\n",
       "    .dataframe tbody tr th {\n",
       "        vertical-align: top;\n",
       "    }\n",
       "\n",
       "    .dataframe thead th {\n",
       "        text-align: right;\n",
       "    }\n",
       "</style>\n",
       "<table border=\"1\" class=\"dataframe\">\n",
       "  <thead>\n",
       "    <tr style=\"text-align: right;\">\n",
       "      <th></th>\n",
       "      <th>t9</th>\n",
       "      <th>t9_2</th>\n",
       "      <th>t9_null</th>\n",
       "      <th>i8_2</th>\n",
       "      <th>t6</th>\n",
       "    </tr>\n",
       "  </thead>\n",
       "  <tbody>\n",
       "    <tr>\n",
       "      <th>0</th>\n",
       "      <td>31539661001001001</td>\n",
       "      <td>1609462861001001001</td>\n",
       "      <td>6.584412e+16</td>\n",
       "      <td>1609462861001001001</td>\n",
       "      <td>31539661001001</td>\n",
       "    </tr>\n",
       "    <tr>\n",
       "      <th>1</th>\n",
       "      <td>65844122002002002</td>\n",
       "      <td>1643767322002002002</td>\n",
       "      <td>NaN</td>\n",
       "      <td>1643767322002002002</td>\n",
       "      <td>65844122002002</td>\n",
       "    </tr>\n",
       "    <tr>\n",
       "      <th>2</th>\n",
       "      <td>99975783003003003</td>\n",
       "      <td>1677812583003003003</td>\n",
       "      <td>2.117153e+18</td>\n",
       "      <td>1677812583003003003</td>\n",
       "      <td>99975783003003</td>\n",
       "    </tr>\n",
       "  </tbody>\n",
       "</table>\n",
       "</div>"
      ],
      "text/plain": [
       "                  t9                 t9_2       t9_null                 i8_2  \\\n",
       "0  31539661001001001  1609462861001001001  6.584412e+16  1609462861001001001   \n",
       "1  65844122002002002  1643767322002002002           NaN  1643767322002002002   \n",
       "2  99975783003003003  1677812583003003003  2.117153e+18  1677812583003003003   \n",
       "\n",
       "               t6  \n",
       "0  31539661001001  \n",
       "1  65844122002002  \n",
       "2  99975783003003  "
      ]
     },
     "execution_count": 5,
     "metadata": {},
     "output_type": "execute_result"
    }
   ],
   "source": [
    "import pandas as pd\n",
    "descr, result = heavydb.sql_execute(f'select * from {table_name}')\n",
    "pd.DataFrame(list(result), columns=map(lambda x: x.name, descr))"
   ]
  },
  {
   "attachments": {},
   "cell_type": "markdown",
   "metadata": {},
   "source": [
    "### Define a function that operate on GeoMultiLineStrings"
   ]
  },
  {
   "attachments": {},
   "cell_type": "markdown",
   "metadata": {},
   "source": [
    "Function `to_polygon` takes a `Column<GeoMultiLineString>` as input and construct a polygon."
   ]
  },
  {
   "cell_type": "code",
   "execution_count": 6,
   "metadata": {},
   "outputs": [],
   "source": [
    "@heavydb(\"int32_t(TableFunctionManager, Column<Timestamp> ts, OutputColumn<int64_t> year, OutputColumn<int64_t> month, OutputColumn<int64_t> day)\",\n",
    "         devices=['cpu'])\n",
    "def extract_year_month_day(mgr, ts, year, month, day):\n",
    "    mgr.set_output_row_size(len(ts))\n",
    "    for i in range(len(ts)):\n",
    "        year[i] = ts[i].getYear()\n",
    "        month[i] = ts[i].getMonth()\n",
    "        day[i] = ts[i].getDay()\n",
    "    return len(ts)"
   ]
  },
  {
   "cell_type": "code",
   "execution_count": 38,
   "metadata": {},
   "outputs": [
    {
     "data": {
      "text/html": [
       "<div>\n",
       "<style scoped>\n",
       "    .dataframe tbody tr th:only-of-type {\n",
       "        vertical-align: middle;\n",
       "    }\n",
       "\n",
       "    .dataframe tbody tr th {\n",
       "        vertical-align: top;\n",
       "    }\n",
       "\n",
       "    .dataframe thead th {\n",
       "        text-align: right;\n",
       "    }\n",
       "</style>\n",
       "<table border=\"1\" class=\"dataframe\">\n",
       "  <thead>\n",
       "    <tr style=\"text-align: right;\">\n",
       "      <th></th>\n",
       "      <th>year</th>\n",
       "      <th>month</th>\n",
       "      <th>day</th>\n",
       "    </tr>\n",
       "  </thead>\n",
       "  <tbody>\n",
       "    <tr>\n",
       "      <th>0</th>\n",
       "      <td>1971</td>\n",
       "      <td>1</td>\n",
       "      <td>1</td>\n",
       "    </tr>\n",
       "    <tr>\n",
       "      <th>1</th>\n",
       "      <td>1972</td>\n",
       "      <td>2</td>\n",
       "      <td>2</td>\n",
       "    </tr>\n",
       "    <tr>\n",
       "      <th>2</th>\n",
       "      <td>1973</td>\n",
       "      <td>3</td>\n",
       "      <td>3</td>\n",
       "    </tr>\n",
       "  </tbody>\n",
       "</table>\n",
       "</div>"
      ],
      "text/plain": [
       "   year  month  day\n",
       "0  1971      1    1\n",
       "1  1972      2    2\n",
       "2  1973      3    3"
      ]
     },
     "execution_count": 38,
     "metadata": {},
     "output_type": "execute_result"
    }
   ],
   "source": [
    "query = (f'''\n",
    "    SELECT * FROM TABLE(extract_year_month_day(\n",
    "        cursor(SELECT t9 from {table_name})\n",
    "    ))\n",
    "''')\n",
    "\n",
    "descr, result = heavydb.sql_execute(query)\n",
    "pd.DataFrame(list(result), columns=map(lambda x: x.name, descr))"
   ]
  },
  {
   "attachments": {},
   "cell_type": "markdown",
   "metadata": {},
   "source": []
  },
  {
   "attachments": {},
   "cell_type": "markdown",
   "metadata": {},
   "source": [
    "---------------------------"
   ]
  },
  {
   "attachments": {},
   "cell_type": "markdown",
   "metadata": {},
   "source": []
  },
  {
   "attachments": {},
   "cell_type": "markdown",
   "metadata": {},
   "source": [
    "### (re)implement `generate_series`"
   ]
  },
  {
   "attachments": {},
   "cell_type": "markdown",
   "metadata": {},
   "source": [
    "HeavyDB ships with a function called `generate_series`, which as the name suggests, can generate a serie of timestamp values from `start_timestamp` to `end_timestamp`."
   ]
  },
  {
   "cell_type": "code",
   "execution_count": 8,
   "metadata": {},
   "outputs": [
    {
     "data": {
      "text/html": [
       "<div>\n",
       "<style scoped>\n",
       "    .dataframe tbody tr th:only-of-type {\n",
       "        vertical-align: middle;\n",
       "    }\n",
       "\n",
       "    .dataframe tbody tr th {\n",
       "        vertical-align: top;\n",
       "    }\n",
       "\n",
       "    .dataframe thead th {\n",
       "        text-align: right;\n",
       "    }\n",
       "</style>\n",
       "<table border=\"1\" class=\"dataframe\">\n",
       "  <thead>\n",
       "    <tr style=\"text-align: right;\">\n",
       "      <th></th>\n",
       "      <th>year</th>\n",
       "      <th>month</th>\n",
       "      <th>day</th>\n",
       "    </tr>\n",
       "  </thead>\n",
       "  <tbody>\n",
       "    <tr>\n",
       "      <th>0</th>\n",
       "      <td>2021</td>\n",
       "      <td>1</td>\n",
       "      <td>1</td>\n",
       "    </tr>\n",
       "    <tr>\n",
       "      <th>1</th>\n",
       "      <td>2021</td>\n",
       "      <td>2</td>\n",
       "      <td>1</td>\n",
       "    </tr>\n",
       "    <tr>\n",
       "      <th>2</th>\n",
       "      <td>2021</td>\n",
       "      <td>3</td>\n",
       "      <td>1</td>\n",
       "    </tr>\n",
       "    <tr>\n",
       "      <th>3</th>\n",
       "      <td>2021</td>\n",
       "      <td>4</td>\n",
       "      <td>1</td>\n",
       "    </tr>\n",
       "    <tr>\n",
       "      <th>4</th>\n",
       "      <td>2021</td>\n",
       "      <td>5</td>\n",
       "      <td>1</td>\n",
       "    </tr>\n",
       "    <tr>\n",
       "      <th>5</th>\n",
       "      <td>2021</td>\n",
       "      <td>6</td>\n",
       "      <td>1</td>\n",
       "    </tr>\n",
       "    <tr>\n",
       "      <th>6</th>\n",
       "      <td>2021</td>\n",
       "      <td>7</td>\n",
       "      <td>1</td>\n",
       "    </tr>\n",
       "    <tr>\n",
       "      <th>7</th>\n",
       "      <td>2021</td>\n",
       "      <td>8</td>\n",
       "      <td>1</td>\n",
       "    </tr>\n",
       "    <tr>\n",
       "      <th>8</th>\n",
       "      <td>2021</td>\n",
       "      <td>9</td>\n",
       "      <td>1</td>\n",
       "    </tr>\n",
       "  </tbody>\n",
       "</table>\n",
       "</div>"
      ],
      "text/plain": [
       "   year  month  day\n",
       "0  2021      1    1\n",
       "1  2021      2    1\n",
       "2  2021      3    1\n",
       "3  2021      4    1\n",
       "4  2021      5    1\n",
       "5  2021      6    1\n",
       "6  2021      7    1\n",
       "7  2021      8    1\n",
       "8  2021      9    1"
      ]
     },
     "execution_count": 8,
     "metadata": {},
     "output_type": "execute_result"
    }
   ],
   "source": [
    "query = (f'''\n",
    "SELECT\n",
    "  *\n",
    "FROM\n",
    "  TABLE(\n",
    "    extract_year_month_day(\n",
    "      ts => CURSOR(\n",
    "        SELECT\n",
    "          *\n",
    "        FROM\n",
    "          TABLE(\n",
    "            generate_series(\n",
    "              TIMESTAMP(0) '2021-01-01 00:00:00',\n",
    "              TIMESTAMP(0) '2021-09-04 00:00:00',\n",
    "              INTERVAL '1' MONTH\n",
    "            )\n",
    "          )\n",
    "      )\n",
    "    )\n",
    "  )\n",
    "''')\n",
    "\n",
    "descr, result = heavydb.sql_execute(query)\n",
    "pd.DataFrame(list(result), columns=list(map(lambda x: x.name, descr)))"
   ]
  },
  {
   "attachments": {},
   "cell_type": "markdown",
   "metadata": {},
   "source": [
    "This same function can be reimplemented in RBC. Function `rbc_generate_series` below implements this notion of series in the same way as the builtin function `generate_series`."
   ]
  },
  {
   "cell_type": "code",
   "execution_count": 9,
   "metadata": {},
   "outputs": [],
   "source": [
    "@heavydb(\n",
    "    \"int32_t(TableFunctionManager, T start, T stop, K step, OutputColumn<T> generate_series)\",\n",
    "    T=[\"Timestamp\"],\n",
    "    K=[\"YearMonthTimeInterval\", \"DayTimeInterval\"],\n",
    "    devices=['cpu']\n",
    ")\n",
    "def rbc_generate_series(mgr, start, stop, step, series_output):\n",
    "    if step.timeval == 0:\n",
    "        return mgr.error_message(\"Timestamp division by zero\")\n",
    "\n",
    "    num_rows = step.numStepsBetween(start, stop) + 1\n",
    "    if num_rows <= 0:\n",
    "        mgr.set_output_row_size(0)\n",
    "        return 0\n",
    "\n",
    "    mgr.set_output_row_size(num_rows)\n",
    "\n",
    "    for idx in range(num_rows):\n",
    "        series_output[idx] = start + (step * idx)\n",
    "    return num_rows"
   ]
  },
  {
   "attachments": {},
   "cell_type": "markdown",
   "metadata": {},
   "source": [
    "Let's also define a second helper function (`timestamp_extract`) to extract information from the resulting generated serie"
   ]
  },
  {
   "cell_type": "code",
   "execution_count": 19,
   "metadata": {},
   "outputs": [],
   "source": [
    "@heavydb('int32(TableFunctionManager, Column<Timestamp> ts, TextEncodingNone text, OutputColumn<int64>)')\n",
    "def timestamp_extract(mgr, inp, prop, out):\n",
    "    size = len(inp)\n",
    "    mgr.set_output_row_size(size)\n",
    "    for i in range(size):\n",
    "        if prop == 'Year':\n",
    "            out[i] = inp[i].getYear()\n",
    "        elif prop == 'Month':\n",
    "            out[i] = inp[i].getMonth()\n",
    "        elif prop == 'Day':\n",
    "            out[i] = inp[i].getDay()\n",
    "        elif prop == 'Hour':\n",
    "            out[i] = inp[i].getHours()\n",
    "        elif prop == 'Minute':\n",
    "            out[i] = inp[i].getMinutes()\n",
    "        else:\n",
    "            out[i] = inp[i].getSeconds()\n",
    "    return size"
   ]
  },
  {
   "attachments": {},
   "cell_type": "markdown",
   "metadata": {},
   "source": [
    "Query below generates a serie from `2021-01-01` to `2025-09-04` with step equals to 1 hour. The resulting dataframe contains the years in the generated serie:"
   ]
  },
  {
   "cell_type": "code",
   "execution_count": 35,
   "metadata": {},
   "outputs": [
    {
     "data": {
      "text/html": [
       "<div>\n",
       "<style scoped>\n",
       "    .dataframe tbody tr th:only-of-type {\n",
       "        vertical-align: middle;\n",
       "    }\n",
       "\n",
       "    .dataframe tbody tr th {\n",
       "        vertical-align: top;\n",
       "    }\n",
       "\n",
       "    .dataframe thead th {\n",
       "        text-align: right;\n",
       "    }\n",
       "</style>\n",
       "<table border=\"1\" class=\"dataframe\">\n",
       "  <thead>\n",
       "    <tr style=\"text-align: right;\">\n",
       "      <th></th>\n",
       "      <th>interval_</th>\n",
       "    </tr>\n",
       "  </thead>\n",
       "  <tbody>\n",
       "    <tr>\n",
       "      <th>0</th>\n",
       "      <td>2021</td>\n",
       "    </tr>\n",
       "    <tr>\n",
       "      <th>1</th>\n",
       "      <td>2022</td>\n",
       "    </tr>\n",
       "    <tr>\n",
       "      <th>2</th>\n",
       "      <td>2023</td>\n",
       "    </tr>\n",
       "    <tr>\n",
       "      <th>3</th>\n",
       "      <td>2024</td>\n",
       "    </tr>\n",
       "    <tr>\n",
       "      <th>4</th>\n",
       "      <td>2025</td>\n",
       "    </tr>\n",
       "  </tbody>\n",
       "</table>\n",
       "</div>"
      ],
      "text/plain": [
       "   interval_\n",
       "0       2021\n",
       "1       2022\n",
       "2       2023\n",
       "3       2024\n",
       "4       2025"
      ]
     },
     "execution_count": 35,
     "metadata": {},
     "output_type": "execute_result"
    }
   ],
   "source": [
    "query = (f'''\n",
    "SELECT\n",
    "  out0 as interval_\n",
    "FROM\n",
    "  TABLE(\n",
    "    timestamp_extract(\n",
    "      CURSOR(\n",
    "        SELECT\n",
    "          *\n",
    "        FROM\n",
    "          TABLE(\n",
    "            generate_series(\n",
    "              TIMESTAMP(0) '2021-01-01 00:00:00',\n",
    "              TIMESTAMP(0) '2025-09-04 00:00:00',\n",
    "              INTERVAL '1' HOUR\n",
    "            )\n",
    "          )\n",
    "      ),\n",
    "      'Year'\n",
    "    )\n",
    "  )\n",
    "  group by interval_\n",
    "''')\n",
    "\n",
    "descr, result = heavydb.sql_execute(query)\n",
    "pd.DataFrame(list(result), columns=list(map(lambda x: x.name, descr)))"
   ]
  }
 ],
 "metadata": {
  "kernelspec": {
   "display_name": "Python 3",
   "language": "python",
   "name": "python3"
  },
  "language_info": {
   "codemirror_mode": {
    "name": "ipython",
    "version": 3
   },
   "file_extension": ".py",
   "mimetype": "text/x-python",
   "name": "python",
   "nbconvert_exporter": "python",
   "pygments_lexer": "ipython3",
   "version": "3.10.11"
  },
  "orig_nbformat": 4
 },
 "nbformat": 4,
 "nbformat_minor": 2
}
