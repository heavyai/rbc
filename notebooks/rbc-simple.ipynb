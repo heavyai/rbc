{
 "cells": [
  {
   "cell_type": "markdown",
   "source": [
    "# Remote Backend Compiler - RBC\n",
    "\n",
    "In RBC, a function compilation process is split between the local host (client) and remote host (server).\n",
    "In client, the functions are compiled to LLVM IR string. The IR is sent to the server where it is compiled to machine code.\n",
    "\n",
    "When client calls the function, the arguments are sent to the server, the server executes the function call, and the results will be sent back to client as a response.\n",
    "\n",
    "To use RBC, import the `rbc` package and define remote JIT decorator. The remote JIT decorator has three use cases:\n",
    "\n",
    "1. decorate Python functions that implementation will be used as a template for low-level functions\n",
    "2. define signatures of the low-level functions\n",
    "3. start/stop remote JIT server"
   ],
   "metadata": {}
  },
  {
   "cell_type": "code",
   "execution_count": 1,
   "source": [
    "import warnings; warnings.filterwarnings('ignore')"
   ],
   "outputs": [],
   "metadata": {}
  },
  {
   "cell_type": "code",
   "execution_count": 2,
   "source": [
    "import rbc"
   ],
   "outputs": [],
   "metadata": {}
  },
  {
   "cell_type": "markdown",
   "source": [
    "## Create Remote JIT decorator"
   ],
   "metadata": {}
  },
  {
   "cell_type": "code",
   "execution_count": 3,
   "source": [
    "rjit = rbc.RemoteJIT(host='localhost')"
   ],
   "outputs": [],
   "metadata": {}
  },
  {
   "cell_type": "markdown",
   "source": [
    "One can start the server from a separate process as well as in background of the current process:"
   ],
   "metadata": {}
  },
  {
   "cell_type": "code",
   "execution_count": 4,
   "source": [
    "# NBVAL_IGNORE_OUTPUT\n",
    "rjit.start_server(background=True)"
   ],
   "outputs": [
    {
     "output_type": "stream",
     "name": "stdout",
     "text": [
      "staring rpc.thrift server: /home/guilhermeleobas/git/rbc/rbc/remotejit.thrift"
     ]
    }
   ],
   "metadata": {}
  },
  {
   "cell_type": "markdown",
   "source": [
    "The server will be stopped at the end of this notebook, see below."
   ],
   "metadata": {}
  },
  {
   "cell_type": "markdown",
   "source": [
    "## Use `rjit` as decorator with signature specifications\n",
    "\n",
    "A function signature can be \n",
    "- in the form of a string, e.g. `\"int64(int64, int64)\"`, \n",
    "- or in the form of a numba function signature, e.g. `numba.int64(numba.int64, numba.int64)`,\n",
    "- or a `ctypes.CFUNCTYPE` instance, e.g. `ctypes.CFUNCTYPE(ctypes.c_int64, ctypes.c_int64, ctypes.c_int64)`.\n",
    "\n",
    "If a function uses annotations, these are also used for determining the signature of a function.\n",
    "\n",
    "For instance, the following example will define an `add` function for arguments with `int` or `float` type:"
   ],
   "metadata": {}
  },
  {
   "cell_type": "code",
   "execution_count": 5,
   "source": [
    "@rjit('f64(f64,f64)')\n",
    "def add(a: int, b: int) -> int:\n",
    "    return a + b"
   ],
   "outputs": [],
   "metadata": {}
  },
  {
   "cell_type": "markdown",
   "source": [
    "#### To view the currently defined signatures"
   ],
   "metadata": {}
  },
  {
   "cell_type": "code",
   "execution_count": 7,
   "source": [
    "for device, target_info in rjit.targets.items():\n",
    "    with target_info:\n",
    "        print('\\n'.join(map(str, add.get_signatures())))"
   ],
   "outputs": [
    {
     "output_type": "stream",
     "name": "stdout",
     "text": [
      "float64(float64, float64)\n",
      "int64 add(int64, int64)\n"
     ]
    }
   ],
   "metadata": {}
  },
  {
   "cell_type": "markdown",
   "source": [
    "## Try it out:"
   ],
   "metadata": {}
  },
  {
   "cell_type": "code",
   "execution_count": 8,
   "source": [
    "add(1, 2)      # int inputs"
   ],
   "outputs": [
    {
     "output_type": "execute_result",
     "data": {
      "text/plain": [
       "3"
      ]
     },
     "metadata": {},
     "execution_count": 8
    }
   ],
   "metadata": {}
  },
  {
   "cell_type": "code",
   "execution_count": 9,
   "source": [
    "add(1.5, 2.0)  # float inputs"
   ],
   "outputs": [
    {
     "output_type": "execute_result",
     "data": {
      "text/plain": [
       "3.5"
      ]
     },
     "metadata": {},
     "execution_count": 9
    }
   ],
   "metadata": {}
  },
  {
   "cell_type": "code",
   "execution_count": 10,
   "source": [
    "try:             # complex inputs\n",
    "    add(1j, 2)   # expect a failure\n",
    "except Exception as msg:\n",
    "    print(msg)"
   ],
   "outputs": [
    {
     "output_type": "stream",
     "name": "stdout",
     "text": [
      "found no matching function type to given argument types `complex128, int64`. Available function types: float64(float64, float64); int64 add(int64, int64)\n"
     ]
    }
   ],
   "metadata": {}
  },
  {
   "cell_type": "code",
   "execution_count": 11,
   "source": [
    "# add support for complex inputs:\n",
    "_ = add.signature('complex128(complex128, complex128)')"
   ],
   "outputs": [],
   "metadata": {}
  },
  {
   "cell_type": "code",
   "execution_count": 12,
   "source": [
    "add(1j, 2)  # now it works"
   ],
   "outputs": [
    {
     "output_type": "execute_result",
     "data": {
      "text/plain": [
       "(2+1j)"
      ]
     },
     "metadata": {},
     "execution_count": 12
    }
   ],
   "metadata": {}
  },
  {
   "cell_type": "markdown",
   "source": [
    "## Debugging\n",
    "\n",
    "For debugging, one can view the generated LLVM IR using the `add.describe` method or just printing the `add` object:"
   ],
   "metadata": {}
  },
  {
   "cell_type": "code",
   "execution_count": 13,
   "source": [
    "# NBVAL_IGNORE_OUTPUT\n",
    "print(add)"
   ],
   "outputs": [
    {
     "output_type": "stream",
     "name": "stdout",
     "text": [
      "\n",
      "--------------------------------------cpu---------------------------------------\n",
      "; ModuleID = 'rbc.irtools.compile_to_IR'\n",
      "source_filename = \"<string>\"\n",
      "target triple = \"x86_64-unknown-linux-gnu\"\n",
      "\n",
      "@\"_ZN08NumbaEnv8__main__7add$244Edd\" = common local_unnamed_addr global i8* null\n",
      "@\"_ZN08NumbaEnv8__main__7add$245E10complex12810complex128\" = common local_unnamed_addr global i8* null\n",
      "@\"_ZN08NumbaEnv8__main__7add$246Exx\" = common local_unnamed_addr global i8* null\n",
      "\n",
      "; Function Attrs: norecurse nounwind readnone\n",
      "define double @add_daddA(double %.1, double %.2) local_unnamed_addr #0 {\n",
      "entry:\n",
      "  %.6.i = fadd double %.1, %.2\n",
      "  ret double %.6.i\n",
      "}\n",
      "\n",
      "; Function Attrs: norecurse nounwind readnone\n",
      "define { double, double } @add_DaDDA({ double, double } %.1, { double, double } %.2) local_unnamed_addr #0 {\n",
      "entry:\n",
      "  %extracted.real = extractvalue { double, double } %.1, 0\n",
      "  %extracted.imag = extractvalue { double, double } %.1, 1\n",
      "  %extracted.real.1 = extractvalue { double, double } %.2, 0\n",
      "  %extracted.imag.1 = extractvalue { double, double } %.2, 1\n",
      "  %.27.i = fadd double %extracted.real, %extracted.real.1\n",
      "  %.30.i = fadd double %extracted.imag, %extracted.imag.1\n",
      "  %.18.fca.0.insert = insertvalue { double, double } undef, double %.27.i, 0\n",
      "  %.18.fca.1.insert = insertvalue { double, double } %.18.fca.0.insert, double %.30.i, 1\n",
      "  ret { double, double } %.18.fca.1.insert\n",
      "}\n",
      "\n",
      "; Function Attrs: norecurse nounwind readnone\n",
      "define i64 @add_lallAW3Wadd(i64 %.1, i64 %.2) local_unnamed_addr #0 {\n",
      "entry:\n",
      "  %.6.i = add nsw i64 %.2, %.1\n",
      "  ret i64 %.6.i\n",
      "}\n",
      "\n",
      "attributes #0 = { norecurse nounwind readnone }\n",
      "\n",
      "!llvm.module.flags = !{!0}\n",
      "\n",
      "!0 = !{i32 4, !\"pass_column_arguments_by_value\", i1 false}\n",
      "\n",
      "--------------------------------------------------------------------------------\n"
     ]
    }
   ],
   "metadata": {}
  },
  {
   "cell_type": "markdown",
   "source": [
    "## Stopping the RBC server"
   ],
   "metadata": {}
  },
  {
   "cell_type": "code",
   "execution_count": 14,
   "source": [
    "rjit.stop_server()"
   ],
   "outputs": [
    {
     "output_type": "stream",
     "name": "stdout",
     "text": [
      "... stopping rpc.thrift server\n"
     ]
    }
   ],
   "metadata": {}
  }
 ],
 "metadata": {
  "kernelspec": {
   "name": "python3",
   "display_name": "Python 3.8.12 64-bit ('rbc': conda)"
  },
  "language_info": {
   "codemirror_mode": {
    "name": "ipython",
    "version": 3
   },
   "file_extension": ".py",
   "mimetype": "text/x-python",
   "name": "python",
   "nbconvert_exporter": "python",
   "pygments_lexer": "ipython3",
   "version": "3.8.12"
  },
  "interpreter": {
   "hash": "d5f7c970bbb39fa37ad8320758958011db57178b67e8623b46fd6c0065ba8519"
  }
 },
 "nbformat": 4,
 "nbformat_minor": 4
}