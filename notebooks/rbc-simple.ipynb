{
 "cells": [
  {
   "cell_type": "markdown",
   "metadata": {},
   "source": [
    "# Remote Backend Compiler - RBC\n",
    "\n",
    "In RBC, a function compilation process is split between the local host (client) and remote host (server).\n",
    "In client, the functions are compiled to LLVM IR string. The IR is sent to the server where it is compiled to machine code.\n",
    "\n",
    "When client calls the function, the arguments are sent to the server, the server executes the function call, and the results will be sent back to client as a response.\n",
    "\n",
    "To use RBC, import the `rbc` package and define remote JIT decorator. The remote JIT decorator has three use cases:\n",
    "\n",
    "1. decorate Python functions that implementation will be used as a template for low-level functions\n",
    "2. define signatures of the low-level functions\n",
    "3. start/stop remote JIT server"
   ]
  },
  {
   "cell_type": "code",
   "execution_count": 1,
   "metadata": {},
   "outputs": [],
   "source": [
    "import warnings; warnings.filterwarnings('ignore')"
   ]
  },
  {
   "cell_type": "code",
   "execution_count": 2,
   "metadata": {},
   "outputs": [],
   "source": [
    "import rbc"
   ]
  },
  {
   "cell_type": "markdown",
   "metadata": {},
   "source": [
    "## Create Remote JIT decorator"
   ]
  },
  {
   "cell_type": "code",
   "execution_count": 3,
   "metadata": {},
   "outputs": [],
   "source": [
    "rjit = rbc.RemoteJIT(host='localhost')"
   ]
  },
  {
   "cell_type": "markdown",
   "metadata": {},
   "source": [
    "One can start the server from a separate process as well as in background of the current process:"
   ]
  },
  {
   "cell_type": "code",
   "execution_count": 4,
   "metadata": {},
   "outputs": [
    {
     "name": "stdout",
     "output_type": "stream",
     "text": [
      "staring rpc.thrift server: /home/pearu/git/xnd-project/rbc/rbc/remotejit.thrift"
     ]
    }
   ],
   "source": [
    "# NBVAL_IGNORE_OUTPUT\n",
    "rjit.start_server(background=True)"
   ]
  },
  {
   "cell_type": "markdown",
   "metadata": {},
   "source": [
    "The server will be stopped at the end of this notebook, see below."
   ]
  },
  {
   "cell_type": "markdown",
   "metadata": {},
   "source": [
    "## Use `rjit` as decorator with signature specifications\n",
    "\n",
    "A function signature can be \n",
    "- in the form of a string, e.g. `\"int64(int64, int64)\"`, \n",
    "- or in the form of a numba function signature, e.g. `numba.int64(numba.int64, numba.int64)`,\n",
    "- or a `ctypes.CFUNCTYPE` instance, e.g. `ctypes.CFUNCTYPE(ctypes.c_int64, ctypes.c_int64, ctypes.c_int64)`.\n",
    "\n",
    "If a function uses annotations, these are also used for determining the signature of a function.\n",
    "\n",
    "For instance, the following example will define an `add` function for arguments with `int` or `float` type:"
   ]
  },
  {
   "cell_type": "code",
   "execution_count": 5,
   "metadata": {},
   "outputs": [],
   "source": [
    "@rjit('f64(f64,f64)')\n",
    "def add(a: int, b: int) -> int:\n",
    "    return a + b"
   ]
  },
  {
   "cell_type": "markdown",
   "metadata": {},
   "source": [
    "#### To view the currently defined signatures"
   ]
  },
  {
   "cell_type": "code",
   "execution_count": 6,
   "metadata": {},
   "outputs": [
    {
     "name": "stdout",
     "output_type": "stream",
     "text": [
      "float64(float64, float64)\n",
      "int64 add(int64, int64)\n"
     ]
    }
   ],
   "source": [
    "for device, target_info in rjit.targets.items():\n",
    "    with target_info:\n",
    "        print('\\n'.join(map(str, add.get_signatures())))"
   ]
  },
  {
   "cell_type": "markdown",
   "metadata": {},
   "source": [
    "## Try it out:"
   ]
  },
  {
   "cell_type": "code",
   "execution_count": 7,
   "metadata": {},
   "outputs": [
    {
     "data": {
      "text/plain": [
       "3"
      ]
     },
     "execution_count": 7,
     "metadata": {},
     "output_type": "execute_result"
    }
   ],
   "source": [
    "add(1, 2)      # int inputs"
   ]
  },
  {
   "cell_type": "code",
   "execution_count": 8,
   "metadata": {},
   "outputs": [
    {
     "data": {
      "text/plain": [
       "3.5"
      ]
     },
     "execution_count": 8,
     "metadata": {},
     "output_type": "execute_result"
    }
   ],
   "source": [
    "add(1.5, 2.0)  # float inputs"
   ]
  },
  {
   "cell_type": "code",
   "execution_count": 9,
   "metadata": {},
   "outputs": [
    {
     "name": "stdout",
     "output_type": "stream",
     "text": [
      "found no matching function type to given argument types:\n",
      "    complex128, int64\n",
      "  available function types:\n",
      "    float64(float64, float64)\n",
      "    int64 add(int64, int64)\n"
     ]
    }
   ],
   "source": [
    "try:             # complex inputs\n",
    "    add(1j, 2)   # expect a failure\n",
    "except Exception as msg:\n",
    "    print(msg)"
   ]
  },
  {
   "cell_type": "code",
   "execution_count": 10,
   "metadata": {},
   "outputs": [],
   "source": [
    "# add support for complex inputs:\n",
    "_ = add.signature('complex128(complex128, complex128)')"
   ]
  },
  {
   "cell_type": "code",
   "execution_count": 11,
   "metadata": {},
   "outputs": [
    {
     "data": {
      "text/plain": [
       "(2+1j)"
      ]
     },
     "execution_count": 11,
     "metadata": {},
     "output_type": "execute_result"
    }
   ],
   "source": [
    "add(1j, 2)  # now it works"
   ]
  },
  {
   "cell_type": "markdown",
   "metadata": {},
   "source": [
    "## Debugging\n",
    "\n",
    "For debugging, one can view the generated LLVM IR using the `add.describe` method or just printing the `add` object:"
   ]
  },
  {
   "cell_type": "code",
   "execution_count": 12,
   "metadata": {},
   "outputs": [
    {
     "name": "stdout",
     "output_type": "stream",
     "text": [
      "\n",
      "--------------------------------------cpu---------------------------------------\n",
      "; ModuleID = 'rbc.irtools.compile_to_IR'\n",
      "source_filename = \"<string>\"\n",
      "target triple = \"x86_64-unknown-linux-gnu\"\n",
      "\n",
      "@_ZN08NumbaEnv8__main__7add_244B40c8tJTC_2fWQA9HW1CcAv0EjzIkAdRoAEtoAgA_3dEdd = common local_unnamed_addr global i8* null\n",
      "@_ZN08NumbaEnv8__main__7add_245B40c8tJTC_2fWQA9HW1CcAv0EjzIkAdRoAEtoAgA_3dE10complex12810complex128 = common local_unnamed_addr global i8* null\n",
      "@_ZN08NumbaEnv8__main__7add_246B40c8tJTC_2fWQA9HW1CcAv0EjzIkAdRoAEtoAgA_3dExx = common local_unnamed_addr global i8* null\n",
      "\n",
      "; Function Attrs: norecurse nounwind readnone\n",
      "define double @add_daddA(double %.1, double %.2) local_unnamed_addr #0 {\n",
      "entry:\n",
      "  %.6.i = fadd double %.1, %.2\n",
      "  ret double %.6.i\n",
      "}\n",
      "\n",
      "; Function Attrs: norecurse nounwind readnone\n",
      "define { double, double } @add_DaDDA({ double, double } %.1, { double, double } %.2) local_unnamed_addr #0 {\n",
      "entry:\n",
      "  %extracted.real = extractvalue { double, double } %.1, 0\n",
      "  %extracted.imag = extractvalue { double, double } %.1, 1\n",
      "  %extracted.real.1 = extractvalue { double, double } %.2, 0\n",
      "  %extracted.imag.1 = extractvalue { double, double } %.2, 1\n",
      "  %.27.i = fadd double %extracted.real, %extracted.real.1\n",
      "  %.30.i = fadd double %extracted.imag, %extracted.imag.1\n",
      "  %.18.fca.0.insert = insertvalue { double, double } undef, double %.27.i, 0\n",
      "  %.18.fca.1.insert = insertvalue { double, double } %.18.fca.0.insert, double %.30.i, 1\n",
      "  ret { double, double } %.18.fca.1.insert\n",
      "}\n",
      "\n",
      "; Function Attrs: norecurse nounwind readnone\n",
      "define i64 @add_lallAW3Wadd(i64 %.1, i64 %.2) local_unnamed_addr #0 {\n",
      "entry:\n",
      "  %.6.i = add nsw i64 %.2, %.1\n",
      "  ret i64 %.6.i\n",
      "}\n",
      "\n",
      "attributes #0 = { norecurse nounwind readnone }\n",
      "\n",
      "!llvm.module.flags = !{!0}\n",
      "\n",
      "!0 = !{i32 4, !\"pass_column_arguments_by_value\", i1 false}\n",
      "\n",
      "--------------------------------------------------------------------------------\n"
     ]
    }
   ],
   "source": [
    "# NBVAL_IGNORE_OUTPUT\n",
    "print(add)"
   ]
  },
  {
   "cell_type": "markdown",
   "metadata": {},
   "source": [
    "## Stopping the RBC server"
   ]
  },
  {
   "cell_type": "code",
   "execution_count": 13,
   "metadata": {},
   "outputs": [
    {
     "name": "stdout",
     "output_type": "stream",
     "text": [
      "... stopping rpc.thrift server\n"
     ]
    }
   ],
   "source": [
    "rjit.stop_server()"
   ]
  }
 ],
 "metadata": {
  "interpreter": {
   "hash": "d5f7c970bbb39fa37ad8320758958011db57178b67e8623b46fd6c0065ba8519"
  },
  "kernelspec": {
   "display_name": "Python 3",
   "language": "python",
   "name": "python3"
  },
  "language_info": {
   "codemirror_mode": {
    "name": "ipython",
    "version": 3
   },
   "file_extension": ".py",
   "mimetype": "text/x-python",
   "name": "python",
   "nbconvert_exporter": "python",
   "pygments_lexer": "ipython3",
   "version": "3.7.3"
  }
 },
 "nbformat": 4,
 "nbformat_minor": 4
}
